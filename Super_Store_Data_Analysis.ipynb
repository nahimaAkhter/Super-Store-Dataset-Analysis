{
  "cells": [
    {
      "cell_type": "markdown",
      "source": [
        "# ***Super Store Dataset Analysis***"
      ],
      "metadata": {
        "id": "1e1e5mp9NTcn"
      }
    },
    {
      "cell_type": "code",
      "execution_count": null,
      "metadata": {
        "id": "OrnA-bpLT7Bj"
      },
      "outputs": [],
      "source": [
        "import numpy as np\n",
        "import matplotlib.pyplot as plt\n",
        "import seaborn as sns\n",
        "import pandas as pd"
      ]
    },
    {
      "cell_type": "code",
      "execution_count": null,
      "metadata": {
        "id": "JipE5cNzRUjc"
      },
      "outputs": [],
      "source": [
        "store=pd.read_csv(\"/content/SuperStoreOrders.csv\")"
      ]
    },
    {
      "cell_type": "markdown",
      "metadata": {
        "id": "j3Uj2_RbpfU-"
      },
      "source": [
        "#**First and last five records of the data set**"
      ]
    },
    {
      "cell_type": "code",
      "execution_count": null,
      "metadata": {
        "colab": {
          "base_uri": "https://localhost:8080/",
          "height": 386
        },
        "id": "UR-VviUcgMm0",
        "outputId": "241e84df-086b-476b-c539-b16af2928c5f"
      },
      "outputs": [
        {
          "output_type": "execute_result",
          "data": {
            "text/plain": [
              "          order_id order_date ship_date       ship_mode    customer_name  \\\n",
              "0     AG-2011-2040   1/1/2011  6/1/2011  Standard Class  Toby Braunhardt   \n",
              "1    IN-2011-47883   1/1/2011  8/1/2011  Standard Class      Joseph Holt   \n",
              "2     HU-2011-1220   1/1/2011  5/1/2011    Second Class    Annie Thurman   \n",
              "3  IT-2011-3647632   1/1/2011  5/1/2011    Second Class     Eugene Moren   \n",
              "4    IN-2011-47883   1/1/2011  8/1/2011  Standard Class      Joseph Holt   \n",
              "\n",
              "       segment            state    country  market   region  ...  \\\n",
              "0     Consumer      Constantine    Algeria  Africa   Africa  ...   \n",
              "1     Consumer  New South Wales  Australia    APAC  Oceania  ...   \n",
              "2     Consumer         Budapest    Hungary    EMEA     EMEA  ...   \n",
              "3  Home Office        Stockholm     Sweden      EU    North  ...   \n",
              "4     Consumer  New South Wales  Australia    APAC  Oceania  ...   \n",
              "\n",
              "          category sub_category                 product_name sales quantity  \\\n",
              "0  Office Supplies      Storage          Tenex Lockers, Blue   408        2   \n",
              "1  Office Supplies     Supplies     Acme Trimmer, High Speed   120        3   \n",
              "2  Office Supplies      Storage      Tenex Box, Single Width    66        4   \n",
              "3  Office Supplies        Paper  Enermax Note Cards, Premium    45        3   \n",
              "4        Furniture  Furnishings   Eldon Light Bulb, Duo Pack   114        5   \n",
              "\n",
              "   discount   profit  shipping_cost  order_priority  year  \n",
              "0       0.0  106.140          35.46          Medium  2011  \n",
              "1       0.1   36.036           9.72          Medium  2011  \n",
              "2       0.0   29.640           8.17            High  2011  \n",
              "3       0.5  -26.055           4.82            High  2011  \n",
              "4       0.1   37.770           4.70          Medium  2011  \n",
              "\n",
              "[5 rows x 21 columns]"
            ],
            "text/html": [
              "\n",
              "  <div id=\"df-d2aa39a2-8461-45b5-a138-fdcf83896e5d\">\n",
              "    <div class=\"colab-df-container\">\n",
              "      <div>\n",
              "<style scoped>\n",
              "    .dataframe tbody tr th:only-of-type {\n",
              "        vertical-align: middle;\n",
              "    }\n",
              "\n",
              "    .dataframe tbody tr th {\n",
              "        vertical-align: top;\n",
              "    }\n",
              "\n",
              "    .dataframe thead th {\n",
              "        text-align: right;\n",
              "    }\n",
              "</style>\n",
              "<table border=\"1\" class=\"dataframe\">\n",
              "  <thead>\n",
              "    <tr style=\"text-align: right;\">\n",
              "      <th></th>\n",
              "      <th>order_id</th>\n",
              "      <th>order_date</th>\n",
              "      <th>ship_date</th>\n",
              "      <th>ship_mode</th>\n",
              "      <th>customer_name</th>\n",
              "      <th>segment</th>\n",
              "      <th>state</th>\n",
              "      <th>country</th>\n",
              "      <th>market</th>\n",
              "      <th>region</th>\n",
              "      <th>...</th>\n",
              "      <th>category</th>\n",
              "      <th>sub_category</th>\n",
              "      <th>product_name</th>\n",
              "      <th>sales</th>\n",
              "      <th>quantity</th>\n",
              "      <th>discount</th>\n",
              "      <th>profit</th>\n",
              "      <th>shipping_cost</th>\n",
              "      <th>order_priority</th>\n",
              "      <th>year</th>\n",
              "    </tr>\n",
              "  </thead>\n",
              "  <tbody>\n",
              "    <tr>\n",
              "      <th>0</th>\n",
              "      <td>AG-2011-2040</td>\n",
              "      <td>1/1/2011</td>\n",
              "      <td>6/1/2011</td>\n",
              "      <td>Standard Class</td>\n",
              "      <td>Toby Braunhardt</td>\n",
              "      <td>Consumer</td>\n",
              "      <td>Constantine</td>\n",
              "      <td>Algeria</td>\n",
              "      <td>Africa</td>\n",
              "      <td>Africa</td>\n",
              "      <td>...</td>\n",
              "      <td>Office Supplies</td>\n",
              "      <td>Storage</td>\n",
              "      <td>Tenex Lockers, Blue</td>\n",
              "      <td>408</td>\n",
              "      <td>2</td>\n",
              "      <td>0.0</td>\n",
              "      <td>106.140</td>\n",
              "      <td>35.46</td>\n",
              "      <td>Medium</td>\n",
              "      <td>2011</td>\n",
              "    </tr>\n",
              "    <tr>\n",
              "      <th>1</th>\n",
              "      <td>IN-2011-47883</td>\n",
              "      <td>1/1/2011</td>\n",
              "      <td>8/1/2011</td>\n",
              "      <td>Standard Class</td>\n",
              "      <td>Joseph Holt</td>\n",
              "      <td>Consumer</td>\n",
              "      <td>New South Wales</td>\n",
              "      <td>Australia</td>\n",
              "      <td>APAC</td>\n",
              "      <td>Oceania</td>\n",
              "      <td>...</td>\n",
              "      <td>Office Supplies</td>\n",
              "      <td>Supplies</td>\n",
              "      <td>Acme Trimmer, High Speed</td>\n",
              "      <td>120</td>\n",
              "      <td>3</td>\n",
              "      <td>0.1</td>\n",
              "      <td>36.036</td>\n",
              "      <td>9.72</td>\n",
              "      <td>Medium</td>\n",
              "      <td>2011</td>\n",
              "    </tr>\n",
              "    <tr>\n",
              "      <th>2</th>\n",
              "      <td>HU-2011-1220</td>\n",
              "      <td>1/1/2011</td>\n",
              "      <td>5/1/2011</td>\n",
              "      <td>Second Class</td>\n",
              "      <td>Annie Thurman</td>\n",
              "      <td>Consumer</td>\n",
              "      <td>Budapest</td>\n",
              "      <td>Hungary</td>\n",
              "      <td>EMEA</td>\n",
              "      <td>EMEA</td>\n",
              "      <td>...</td>\n",
              "      <td>Office Supplies</td>\n",
              "      <td>Storage</td>\n",
              "      <td>Tenex Box, Single Width</td>\n",
              "      <td>66</td>\n",
              "      <td>4</td>\n",
              "      <td>0.0</td>\n",
              "      <td>29.640</td>\n",
              "      <td>8.17</td>\n",
              "      <td>High</td>\n",
              "      <td>2011</td>\n",
              "    </tr>\n",
              "    <tr>\n",
              "      <th>3</th>\n",
              "      <td>IT-2011-3647632</td>\n",
              "      <td>1/1/2011</td>\n",
              "      <td>5/1/2011</td>\n",
              "      <td>Second Class</td>\n",
              "      <td>Eugene Moren</td>\n",
              "      <td>Home Office</td>\n",
              "      <td>Stockholm</td>\n",
              "      <td>Sweden</td>\n",
              "      <td>EU</td>\n",
              "      <td>North</td>\n",
              "      <td>...</td>\n",
              "      <td>Office Supplies</td>\n",
              "      <td>Paper</td>\n",
              "      <td>Enermax Note Cards, Premium</td>\n",
              "      <td>45</td>\n",
              "      <td>3</td>\n",
              "      <td>0.5</td>\n",
              "      <td>-26.055</td>\n",
              "      <td>4.82</td>\n",
              "      <td>High</td>\n",
              "      <td>2011</td>\n",
              "    </tr>\n",
              "    <tr>\n",
              "      <th>4</th>\n",
              "      <td>IN-2011-47883</td>\n",
              "      <td>1/1/2011</td>\n",
              "      <td>8/1/2011</td>\n",
              "      <td>Standard Class</td>\n",
              "      <td>Joseph Holt</td>\n",
              "      <td>Consumer</td>\n",
              "      <td>New South Wales</td>\n",
              "      <td>Australia</td>\n",
              "      <td>APAC</td>\n",
              "      <td>Oceania</td>\n",
              "      <td>...</td>\n",
              "      <td>Furniture</td>\n",
              "      <td>Furnishings</td>\n",
              "      <td>Eldon Light Bulb, Duo Pack</td>\n",
              "      <td>114</td>\n",
              "      <td>5</td>\n",
              "      <td>0.1</td>\n",
              "      <td>37.770</td>\n",
              "      <td>4.70</td>\n",
              "      <td>Medium</td>\n",
              "      <td>2011</td>\n",
              "    </tr>\n",
              "  </tbody>\n",
              "</table>\n",
              "<p>5 rows × 21 columns</p>\n",
              "</div>\n",
              "      <button class=\"colab-df-convert\" onclick=\"convertToInteractive('df-d2aa39a2-8461-45b5-a138-fdcf83896e5d')\"\n",
              "              title=\"Convert this dataframe to an interactive table.\"\n",
              "              style=\"display:none;\">\n",
              "        \n",
              "  <svg xmlns=\"http://www.w3.org/2000/svg\" height=\"24px\"viewBox=\"0 0 24 24\"\n",
              "       width=\"24px\">\n",
              "    <path d=\"M0 0h24v24H0V0z\" fill=\"none\"/>\n",
              "    <path d=\"M18.56 5.44l.94 2.06.94-2.06 2.06-.94-2.06-.94-.94-2.06-.94 2.06-2.06.94zm-11 1L8.5 8.5l.94-2.06 2.06-.94-2.06-.94L8.5 2.5l-.94 2.06-2.06.94zm10 10l.94 2.06.94-2.06 2.06-.94-2.06-.94-.94-2.06-.94 2.06-2.06.94z\"/><path d=\"M17.41 7.96l-1.37-1.37c-.4-.4-.92-.59-1.43-.59-.52 0-1.04.2-1.43.59L10.3 9.45l-7.72 7.72c-.78.78-.78 2.05 0 2.83L4 21.41c.39.39.9.59 1.41.59.51 0 1.02-.2 1.41-.59l7.78-7.78 2.81-2.81c.8-.78.8-2.07 0-2.86zM5.41 20L4 18.59l7.72-7.72 1.47 1.35L5.41 20z\"/>\n",
              "  </svg>\n",
              "      </button>\n",
              "      \n",
              "  <style>\n",
              "    .colab-df-container {\n",
              "      display:flex;\n",
              "      flex-wrap:wrap;\n",
              "      gap: 12px;\n",
              "    }\n",
              "\n",
              "    .colab-df-convert {\n",
              "      background-color: #E8F0FE;\n",
              "      border: none;\n",
              "      border-radius: 50%;\n",
              "      cursor: pointer;\n",
              "      display: none;\n",
              "      fill: #1967D2;\n",
              "      height: 32px;\n",
              "      padding: 0 0 0 0;\n",
              "      width: 32px;\n",
              "    }\n",
              "\n",
              "    .colab-df-convert:hover {\n",
              "      background-color: #E2EBFA;\n",
              "      box-shadow: 0px 1px 2px rgba(60, 64, 67, 0.3), 0px 1px 3px 1px rgba(60, 64, 67, 0.15);\n",
              "      fill: #174EA6;\n",
              "    }\n",
              "\n",
              "    [theme=dark] .colab-df-convert {\n",
              "      background-color: #3B4455;\n",
              "      fill: #D2E3FC;\n",
              "    }\n",
              "\n",
              "    [theme=dark] .colab-df-convert:hover {\n",
              "      background-color: #434B5C;\n",
              "      box-shadow: 0px 1px 3px 1px rgba(0, 0, 0, 0.15);\n",
              "      filter: drop-shadow(0px 1px 2px rgba(0, 0, 0, 0.3));\n",
              "      fill: #FFFFFF;\n",
              "    }\n",
              "  </style>\n",
              "\n",
              "      <script>\n",
              "        const buttonEl =\n",
              "          document.querySelector('#df-d2aa39a2-8461-45b5-a138-fdcf83896e5d button.colab-df-convert');\n",
              "        buttonEl.style.display =\n",
              "          google.colab.kernel.accessAllowed ? 'block' : 'none';\n",
              "\n",
              "        async function convertToInteractive(key) {\n",
              "          const element = document.querySelector('#df-d2aa39a2-8461-45b5-a138-fdcf83896e5d');\n",
              "          const dataTable =\n",
              "            await google.colab.kernel.invokeFunction('convertToInteractive',\n",
              "                                                     [key], {});\n",
              "          if (!dataTable) return;\n",
              "\n",
              "          const docLinkHtml = 'Like what you see? Visit the ' +\n",
              "            '<a target=\"_blank\" href=https://colab.research.google.com/notebooks/data_table.ipynb>data table notebook</a>'\n",
              "            + ' to learn more about interactive tables.';\n",
              "          element.innerHTML = '';\n",
              "          dataTable['output_type'] = 'display_data';\n",
              "          await google.colab.output.renderOutput(dataTable, element);\n",
              "          const docLink = document.createElement('div');\n",
              "          docLink.innerHTML = docLinkHtml;\n",
              "          element.appendChild(docLink);\n",
              "        }\n",
              "      </script>\n",
              "    </div>\n",
              "  </div>\n",
              "  "
            ]
          },
          "metadata": {},
          "execution_count": 613
        }
      ],
      "source": [
        "store.head()"
      ]
    },
    {
      "cell_type": "code",
      "execution_count": null,
      "metadata": {
        "colab": {
          "base_uri": "https://localhost:8080/",
          "height": 490
        },
        "id": "SzMbzrpNi581",
        "outputId": "6d1c6af1-8194-4f25-bf47-3cb39e0306de"
      },
      "outputs": [
        {
          "output_type": "execute_result",
          "data": {
            "text/plain": [
              "             order_id  order_date ship_date       ship_mode     customer_name  \\\n",
              "51285  CA-2014-115427  31-12-2014  4/1/2015  Standard Class        Erica Bern   \n",
              "51286    MO-2014-2560  31-12-2014  5/1/2015  Standard Class         Liz Preis   \n",
              "51287  MX-2014-110527  31-12-2014  2/1/2015    Second Class  Charlotte Melton   \n",
              "51288  MX-2014-114783  31-12-2014  6/1/2015  Standard Class     Tamara Dahlen   \n",
              "51289  CA-2014-156720  31-12-2014  4/1/2015  Standard Class     Jill Matthias   \n",
              "\n",
              "         segment             state        country  market   region  ...  \\\n",
              "51285  Corporate        California  United States      US     West  ...   \n",
              "51286   Consumer  Souss-Massa-Draâ        Morocco  Africa   Africa  ...   \n",
              "51287   Consumer           Managua      Nicaragua   LATAM  Central  ...   \n",
              "51288   Consumer         Chihuahua         Mexico   LATAM    North  ...   \n",
              "51289   Consumer          Colorado  United States      US     West  ...   \n",
              "\n",
              "              category sub_category  \\\n",
              "51285  Office Supplies      Binders   \n",
              "51286  Office Supplies      Binders   \n",
              "51287  Office Supplies       Labels   \n",
              "51288  Office Supplies       Labels   \n",
              "51289  Office Supplies    Fasteners   \n",
              "\n",
              "                                          product_name sales quantity  \\\n",
              "51285  Cardinal Slant-D Ring Binder, Heavy Gauge Vinyl    14        2   \n",
              "51286          Wilson Jones Hole Reinforcements, Clear     4        1   \n",
              "51287           Hon Color Coded Labels, 5000 Label Set    26        3   \n",
              "51288           Hon Legal Exhibit Labels, Alphabetical     7        1   \n",
              "51289                              Bagged Rubber Bands     3        3   \n",
              "\n",
              "       discount   profit  shipping_cost  order_priority  year  \n",
              "51285       0.2   4.5188           0.89          Medium  2014  \n",
              "51286       0.0   0.4200           0.49          Medium  2014  \n",
              "51287       0.0  12.3600           0.35          Medium  2014  \n",
              "51288       0.0   0.5600           0.20          Medium  2014  \n",
              "51289       0.2  -0.6048           0.17          Medium  2014  \n",
              "\n",
              "[5 rows x 21 columns]"
            ],
            "text/html": [
              "\n",
              "  <div id=\"df-02ba0360-1ba5-4e70-b9c4-f5d6c3b2cbb2\">\n",
              "    <div class=\"colab-df-container\">\n",
              "      <div>\n",
              "<style scoped>\n",
              "    .dataframe tbody tr th:only-of-type {\n",
              "        vertical-align: middle;\n",
              "    }\n",
              "\n",
              "    .dataframe tbody tr th {\n",
              "        vertical-align: top;\n",
              "    }\n",
              "\n",
              "    .dataframe thead th {\n",
              "        text-align: right;\n",
              "    }\n",
              "</style>\n",
              "<table border=\"1\" class=\"dataframe\">\n",
              "  <thead>\n",
              "    <tr style=\"text-align: right;\">\n",
              "      <th></th>\n",
              "      <th>order_id</th>\n",
              "      <th>order_date</th>\n",
              "      <th>ship_date</th>\n",
              "      <th>ship_mode</th>\n",
              "      <th>customer_name</th>\n",
              "      <th>segment</th>\n",
              "      <th>state</th>\n",
              "      <th>country</th>\n",
              "      <th>market</th>\n",
              "      <th>region</th>\n",
              "      <th>...</th>\n",
              "      <th>category</th>\n",
              "      <th>sub_category</th>\n",
              "      <th>product_name</th>\n",
              "      <th>sales</th>\n",
              "      <th>quantity</th>\n",
              "      <th>discount</th>\n",
              "      <th>profit</th>\n",
              "      <th>shipping_cost</th>\n",
              "      <th>order_priority</th>\n",
              "      <th>year</th>\n",
              "    </tr>\n",
              "  </thead>\n",
              "  <tbody>\n",
              "    <tr>\n",
              "      <th>51285</th>\n",
              "      <td>CA-2014-115427</td>\n",
              "      <td>31-12-2014</td>\n",
              "      <td>4/1/2015</td>\n",
              "      <td>Standard Class</td>\n",
              "      <td>Erica Bern</td>\n",
              "      <td>Corporate</td>\n",
              "      <td>California</td>\n",
              "      <td>United States</td>\n",
              "      <td>US</td>\n",
              "      <td>West</td>\n",
              "      <td>...</td>\n",
              "      <td>Office Supplies</td>\n",
              "      <td>Binders</td>\n",
              "      <td>Cardinal Slant-D Ring Binder, Heavy Gauge Vinyl</td>\n",
              "      <td>14</td>\n",
              "      <td>2</td>\n",
              "      <td>0.2</td>\n",
              "      <td>4.5188</td>\n",
              "      <td>0.89</td>\n",
              "      <td>Medium</td>\n",
              "      <td>2014</td>\n",
              "    </tr>\n",
              "    <tr>\n",
              "      <th>51286</th>\n",
              "      <td>MO-2014-2560</td>\n",
              "      <td>31-12-2014</td>\n",
              "      <td>5/1/2015</td>\n",
              "      <td>Standard Class</td>\n",
              "      <td>Liz Preis</td>\n",
              "      <td>Consumer</td>\n",
              "      <td>Souss-Massa-Draâ</td>\n",
              "      <td>Morocco</td>\n",
              "      <td>Africa</td>\n",
              "      <td>Africa</td>\n",
              "      <td>...</td>\n",
              "      <td>Office Supplies</td>\n",
              "      <td>Binders</td>\n",
              "      <td>Wilson Jones Hole Reinforcements, Clear</td>\n",
              "      <td>4</td>\n",
              "      <td>1</td>\n",
              "      <td>0.0</td>\n",
              "      <td>0.4200</td>\n",
              "      <td>0.49</td>\n",
              "      <td>Medium</td>\n",
              "      <td>2014</td>\n",
              "    </tr>\n",
              "    <tr>\n",
              "      <th>51287</th>\n",
              "      <td>MX-2014-110527</td>\n",
              "      <td>31-12-2014</td>\n",
              "      <td>2/1/2015</td>\n",
              "      <td>Second Class</td>\n",
              "      <td>Charlotte Melton</td>\n",
              "      <td>Consumer</td>\n",
              "      <td>Managua</td>\n",
              "      <td>Nicaragua</td>\n",
              "      <td>LATAM</td>\n",
              "      <td>Central</td>\n",
              "      <td>...</td>\n",
              "      <td>Office Supplies</td>\n",
              "      <td>Labels</td>\n",
              "      <td>Hon Color Coded Labels, 5000 Label Set</td>\n",
              "      <td>26</td>\n",
              "      <td>3</td>\n",
              "      <td>0.0</td>\n",
              "      <td>12.3600</td>\n",
              "      <td>0.35</td>\n",
              "      <td>Medium</td>\n",
              "      <td>2014</td>\n",
              "    </tr>\n",
              "    <tr>\n",
              "      <th>51288</th>\n",
              "      <td>MX-2014-114783</td>\n",
              "      <td>31-12-2014</td>\n",
              "      <td>6/1/2015</td>\n",
              "      <td>Standard Class</td>\n",
              "      <td>Tamara Dahlen</td>\n",
              "      <td>Consumer</td>\n",
              "      <td>Chihuahua</td>\n",
              "      <td>Mexico</td>\n",
              "      <td>LATAM</td>\n",
              "      <td>North</td>\n",
              "      <td>...</td>\n",
              "      <td>Office Supplies</td>\n",
              "      <td>Labels</td>\n",
              "      <td>Hon Legal Exhibit Labels, Alphabetical</td>\n",
              "      <td>7</td>\n",
              "      <td>1</td>\n",
              "      <td>0.0</td>\n",
              "      <td>0.5600</td>\n",
              "      <td>0.20</td>\n",
              "      <td>Medium</td>\n",
              "      <td>2014</td>\n",
              "    </tr>\n",
              "    <tr>\n",
              "      <th>51289</th>\n",
              "      <td>CA-2014-156720</td>\n",
              "      <td>31-12-2014</td>\n",
              "      <td>4/1/2015</td>\n",
              "      <td>Standard Class</td>\n",
              "      <td>Jill Matthias</td>\n",
              "      <td>Consumer</td>\n",
              "      <td>Colorado</td>\n",
              "      <td>United States</td>\n",
              "      <td>US</td>\n",
              "      <td>West</td>\n",
              "      <td>...</td>\n",
              "      <td>Office Supplies</td>\n",
              "      <td>Fasteners</td>\n",
              "      <td>Bagged Rubber Bands</td>\n",
              "      <td>3</td>\n",
              "      <td>3</td>\n",
              "      <td>0.2</td>\n",
              "      <td>-0.6048</td>\n",
              "      <td>0.17</td>\n",
              "      <td>Medium</td>\n",
              "      <td>2014</td>\n",
              "    </tr>\n",
              "  </tbody>\n",
              "</table>\n",
              "<p>5 rows × 21 columns</p>\n",
              "</div>\n",
              "      <button class=\"colab-df-convert\" onclick=\"convertToInteractive('df-02ba0360-1ba5-4e70-b9c4-f5d6c3b2cbb2')\"\n",
              "              title=\"Convert this dataframe to an interactive table.\"\n",
              "              style=\"display:none;\">\n",
              "        \n",
              "  <svg xmlns=\"http://www.w3.org/2000/svg\" height=\"24px\"viewBox=\"0 0 24 24\"\n",
              "       width=\"24px\">\n",
              "    <path d=\"M0 0h24v24H0V0z\" fill=\"none\"/>\n",
              "    <path d=\"M18.56 5.44l.94 2.06.94-2.06 2.06-.94-2.06-.94-.94-2.06-.94 2.06-2.06.94zm-11 1L8.5 8.5l.94-2.06 2.06-.94-2.06-.94L8.5 2.5l-.94 2.06-2.06.94zm10 10l.94 2.06.94-2.06 2.06-.94-2.06-.94-.94-2.06-.94 2.06-2.06.94z\"/><path d=\"M17.41 7.96l-1.37-1.37c-.4-.4-.92-.59-1.43-.59-.52 0-1.04.2-1.43.59L10.3 9.45l-7.72 7.72c-.78.78-.78 2.05 0 2.83L4 21.41c.39.39.9.59 1.41.59.51 0 1.02-.2 1.41-.59l7.78-7.78 2.81-2.81c.8-.78.8-2.07 0-2.86zM5.41 20L4 18.59l7.72-7.72 1.47 1.35L5.41 20z\"/>\n",
              "  </svg>\n",
              "      </button>\n",
              "      \n",
              "  <style>\n",
              "    .colab-df-container {\n",
              "      display:flex;\n",
              "      flex-wrap:wrap;\n",
              "      gap: 12px;\n",
              "    }\n",
              "\n",
              "    .colab-df-convert {\n",
              "      background-color: #E8F0FE;\n",
              "      border: none;\n",
              "      border-radius: 50%;\n",
              "      cursor: pointer;\n",
              "      display: none;\n",
              "      fill: #1967D2;\n",
              "      height: 32px;\n",
              "      padding: 0 0 0 0;\n",
              "      width: 32px;\n",
              "    }\n",
              "\n",
              "    .colab-df-convert:hover {\n",
              "      background-color: #E2EBFA;\n",
              "      box-shadow: 0px 1px 2px rgba(60, 64, 67, 0.3), 0px 1px 3px 1px rgba(60, 64, 67, 0.15);\n",
              "      fill: #174EA6;\n",
              "    }\n",
              "\n",
              "    [theme=dark] .colab-df-convert {\n",
              "      background-color: #3B4455;\n",
              "      fill: #D2E3FC;\n",
              "    }\n",
              "\n",
              "    [theme=dark] .colab-df-convert:hover {\n",
              "      background-color: #434B5C;\n",
              "      box-shadow: 0px 1px 3px 1px rgba(0, 0, 0, 0.15);\n",
              "      filter: drop-shadow(0px 1px 2px rgba(0, 0, 0, 0.3));\n",
              "      fill: #FFFFFF;\n",
              "    }\n",
              "  </style>\n",
              "\n",
              "      <script>\n",
              "        const buttonEl =\n",
              "          document.querySelector('#df-02ba0360-1ba5-4e70-b9c4-f5d6c3b2cbb2 button.colab-df-convert');\n",
              "        buttonEl.style.display =\n",
              "          google.colab.kernel.accessAllowed ? 'block' : 'none';\n",
              "\n",
              "        async function convertToInteractive(key) {\n",
              "          const element = document.querySelector('#df-02ba0360-1ba5-4e70-b9c4-f5d6c3b2cbb2');\n",
              "          const dataTable =\n",
              "            await google.colab.kernel.invokeFunction('convertToInteractive',\n",
              "                                                     [key], {});\n",
              "          if (!dataTable) return;\n",
              "\n",
              "          const docLinkHtml = 'Like what you see? Visit the ' +\n",
              "            '<a target=\"_blank\" href=https://colab.research.google.com/notebooks/data_table.ipynb>data table notebook</a>'\n",
              "            + ' to learn more about interactive tables.';\n",
              "          element.innerHTML = '';\n",
              "          dataTable['output_type'] = 'display_data';\n",
              "          await google.colab.output.renderOutput(dataTable, element);\n",
              "          const docLink = document.createElement('div');\n",
              "          docLink.innerHTML = docLinkHtml;\n",
              "          element.appendChild(docLink);\n",
              "        }\n",
              "      </script>\n",
              "    </div>\n",
              "  </div>\n",
              "  "
            ]
          },
          "metadata": {},
          "execution_count": 614
        }
      ],
      "source": [
        "store.tail(5)"
      ]
    },
    {
      "cell_type": "markdown",
      "metadata": {
        "id": "h8qw4adGpy9y"
      },
      "source": [
        "#**Rows and columns of the dataset**"
      ]
    },
    {
      "cell_type": "code",
      "execution_count": null,
      "metadata": {
        "colab": {
          "base_uri": "https://localhost:8080/"
        },
        "id": "hfAgbR8ypvgd",
        "outputId": "845a01bc-9773-48ec-969b-fe8db70c6b53"
      },
      "outputs": [
        {
          "output_type": "execute_result",
          "data": {
            "text/plain": [
              "(51290, 21)"
            ]
          },
          "metadata": {},
          "execution_count": 615
        }
      ],
      "source": [
        "store.shape"
      ]
    },
    {
      "cell_type": "markdown",
      "metadata": {
        "id": "k26sHnsUqGVx"
      },
      "source": [
        "#**Check for Null Values**"
      ]
    },
    {
      "cell_type": "code",
      "execution_count": null,
      "metadata": {
        "colab": {
          "base_uri": "https://localhost:8080/"
        },
        "id": "DvOx6JHG-6iS",
        "outputId": "8f6d044d-8040-4c17-d3b6-53d8bdc1a60a"
      },
      "outputs": [
        {
          "output_type": "execute_result",
          "data": {
            "text/plain": [
              "order_id          0\n",
              "order_date        0\n",
              "ship_date         0\n",
              "ship_mode         0\n",
              "customer_name     0\n",
              "segment           0\n",
              "state             0\n",
              "country           0\n",
              "market            0\n",
              "region            0\n",
              "product_id        0\n",
              "category          0\n",
              "sub_category      0\n",
              "product_name      0\n",
              "sales             0\n",
              "quantity          0\n",
              "discount          0\n",
              "profit            0\n",
              "shipping_cost     0\n",
              "order_priority    0\n",
              "year              0\n",
              "dtype: int64"
            ]
          },
          "metadata": {},
          "execution_count": 616
        }
      ],
      "source": [
        "store.isnull().sum()"
      ]
    },
    {
      "cell_type": "markdown",
      "metadata": {
        "id": "4k_ZMGNcqV_F"
      },
      "source": [
        "#**Checking info of data frame**"
      ]
    },
    {
      "cell_type": "code",
      "execution_count": null,
      "metadata": {
        "colab": {
          "base_uri": "https://localhost:8080/"
        },
        "id": "Mf-6RjQvkdtw",
        "outputId": "08ef442a-cf56-496f-ba5e-7a00d3571dc1"
      },
      "outputs": [
        {
          "output_type": "stream",
          "name": "stdout",
          "text": [
            "<class 'pandas.core.frame.DataFrame'>\n",
            "RangeIndex: 51290 entries, 0 to 51289\n",
            "Data columns (total 21 columns):\n",
            " #   Column          Non-Null Count  Dtype  \n",
            "---  ------          --------------  -----  \n",
            " 0   order_id        51290 non-null  object \n",
            " 1   order_date      51290 non-null  object \n",
            " 2   ship_date       51290 non-null  object \n",
            " 3   ship_mode       51290 non-null  object \n",
            " 4   customer_name   51290 non-null  object \n",
            " 5   segment         51290 non-null  object \n",
            " 6   state           51290 non-null  object \n",
            " 7   country         51290 non-null  object \n",
            " 8   market          51290 non-null  object \n",
            " 9   region          51290 non-null  object \n",
            " 10  product_id      51290 non-null  object \n",
            " 11  category        51290 non-null  object \n",
            " 12  sub_category    51290 non-null  object \n",
            " 13  product_name    51290 non-null  object \n",
            " 14  sales           51290 non-null  object \n",
            " 15  quantity        51290 non-null  int64  \n",
            " 16  discount        51290 non-null  float64\n",
            " 17  profit          51290 non-null  float64\n",
            " 18  shipping_cost   51290 non-null  float64\n",
            " 19  order_priority  51290 non-null  object \n",
            " 20  year            51290 non-null  int64  \n",
            "dtypes: float64(3), int64(2), object(16)\n",
            "memory usage: 8.2+ MB\n"
          ]
        }
      ],
      "source": [
        "store.info()"
      ]
    },
    {
      "cell_type": "markdown",
      "metadata": {
        "id": "Rst_4Dggqjj0"
      },
      "source": [
        "#**Check for any duplicate in Dataset**"
      ]
    },
    {
      "cell_type": "code",
      "execution_count": null,
      "metadata": {
        "colab": {
          "base_uri": "https://localhost:8080/"
        },
        "id": "7UMRjSlgAXdt",
        "outputId": "7d26079d-f812-44b3-c6ce-c35884d0bc2c"
      },
      "outputs": [
        {
          "output_type": "execute_result",
          "data": {
            "text/plain": [
              "0"
            ]
          },
          "metadata": {},
          "execution_count": 618
        }
      ],
      "source": [
        "store.duplicated().sum()"
      ]
    },
    {
      "cell_type": "markdown",
      "metadata": {
        "id": "fXKTCeCCq9zv"
      },
      "source": [
        "#**HEADERS OF ALL THE COLUMNS**"
      ]
    },
    {
      "cell_type": "code",
      "execution_count": null,
      "metadata": {
        "colab": {
          "base_uri": "https://localhost:8080/"
        },
        "id": "NPkc1CVpUtIK",
        "outputId": "cd9e4f97-a925-4898-ade4-1a06919956bf"
      },
      "outputs": [
        {
          "output_type": "execute_result",
          "data": {
            "text/plain": [
              "Index(['order_id', 'order_date', 'ship_date', 'ship_mode', 'customer_name',\n",
              "       'segment', 'state', 'country', 'market', 'region', 'product_id',\n",
              "       'category', 'sub_category', 'product_name', 'sales', 'quantity',\n",
              "       'discount', 'profit', 'shipping_cost', 'order_priority', 'year'],\n",
              "      dtype='object')"
            ]
          },
          "metadata": {},
          "execution_count": 619
        }
      ],
      "source": [
        "key=store.columns\n",
        "key"
      ]
    },
    {
      "cell_type": "markdown",
      "metadata": {
        "id": "Ju3yWEhxrlah"
      },
      "source": [
        "#**Checking Data type**"
      ]
    },
    {
      "cell_type": "code",
      "execution_count": null,
      "metadata": {
        "colab": {
          "base_uri": "https://localhost:8080/"
        },
        "id": "9uA3SJWnrkuj",
        "outputId": "0c366208-397d-4f81-e781-6d35a89142b4"
      },
      "outputs": [
        {
          "output_type": "execute_result",
          "data": {
            "text/plain": [
              "order_id           object\n",
              "order_date         object\n",
              "ship_date          object\n",
              "ship_mode          object\n",
              "customer_name      object\n",
              "segment            object\n",
              "state              object\n",
              "country            object\n",
              "market             object\n",
              "region             object\n",
              "product_id         object\n",
              "category           object\n",
              "sub_category       object\n",
              "product_name       object\n",
              "sales              object\n",
              "quantity            int64\n",
              "discount          float64\n",
              "profit            float64\n",
              "shipping_cost     float64\n",
              "order_priority     object\n",
              "year                int64\n",
              "dtype: object"
            ]
          },
          "metadata": {},
          "execution_count": 620
        }
      ],
      "source": [
        "store.dtypes"
      ]
    },
    {
      "cell_type": "markdown",
      "metadata": {
        "id": "D8mclDpOrMGn"
      },
      "source": [
        "#**Changing the Incorrect Data Types**"
      ]
    },
    {
      "cell_type": "code",
      "execution_count": null,
      "metadata": {
        "id": "nDHcN33Z2qk-"
      },
      "outputs": [],
      "source": [
        "store['sales']=store['sales'].str.replace(',','')"
      ]
    },
    {
      "cell_type": "code",
      "execution_count": null,
      "metadata": {
        "id": "d1FUvrNX3DA8"
      },
      "outputs": [],
      "source": [
        "store['sales'] = store['sales'].astype(\"float\")"
      ]
    },
    {
      "cell_type": "markdown",
      "metadata": {
        "id": "8fiNBMZPr-IU"
      },
      "source": [
        "#**Checking for unique dataset**"
      ]
    },
    {
      "cell_type": "code",
      "execution_count": null,
      "metadata": {
        "colab": {
          "base_uri": "https://localhost:8080/"
        },
        "id": "iVY5NM9vsLQj",
        "outputId": "0614f4fa-f406-4143-8391-df8c69a0aec1"
      },
      "outputs": [
        {
          "output_type": "execute_result",
          "data": {
            "text/plain": [
              "order_id          25035\n",
              "order_date         1430\n",
              "ship_date          1464\n",
              "ship_mode             4\n",
              "customer_name       795\n",
              "segment               3\n",
              "state              1094\n",
              "country             147\n",
              "market                7\n",
              "region               13\n",
              "product_id        10292\n",
              "category              3\n",
              "sub_category         17\n",
              "product_name       3788\n",
              "sales              2246\n",
              "quantity             14\n",
              "discount             27\n",
              "profit            24575\n",
              "shipping_cost     10037\n",
              "order_priority        4\n",
              "year                  4\n",
              "dtype: int64"
            ]
          },
          "metadata": {},
          "execution_count": 623
        }
      ],
      "source": [
        "store.nunique()"
      ]
    },
    {
      "cell_type": "markdown",
      "metadata": {
        "id": "L5YkNouasYnw"
      },
      "source": [
        "#**BASICS STATISTICS OF DATA**"
      ]
    },
    {
      "cell_type": "code",
      "execution_count": null,
      "metadata": {
        "colab": {
          "base_uri": "https://localhost:8080/",
          "height": 300
        },
        "id": "ly3jkjALsYFY",
        "outputId": "41ee4e1c-043e-45c5-b38b-c81cac56e55f"
      },
      "outputs": [
        {
          "output_type": "execute_result",
          "data": {
            "text/plain": [
              "              sales      quantity      discount        profit  shipping_cost  \\\n",
              "count  51290.000000  51290.000000  51290.000000  51290.000000   51290.000000   \n",
              "mean     246.498440      3.476545      0.142908     28.641740      26.375915   \n",
              "std      487.567175      2.278766      0.212280    174.424113      57.296804   \n",
              "min        0.000000      1.000000      0.000000  -6599.978000       0.000000   \n",
              "25%       31.000000      2.000000      0.000000      0.000000       2.610000   \n",
              "50%       85.000000      3.000000      0.000000      9.240000       7.790000   \n",
              "75%      251.000000      5.000000      0.200000     36.810000      24.450000   \n",
              "max    22638.000000     14.000000      0.850000   8399.976000     933.570000   \n",
              "\n",
              "               year  \n",
              "count  51290.000000  \n",
              "mean    2012.777208  \n",
              "std        1.098931  \n",
              "min     2011.000000  \n",
              "25%     2012.000000  \n",
              "50%     2013.000000  \n",
              "75%     2014.000000  \n",
              "max     2014.000000  "
            ],
            "text/html": [
              "\n",
              "  <div id=\"df-3b8b10d3-4570-4f3a-a6d4-e888c5e9f381\">\n",
              "    <div class=\"colab-df-container\">\n",
              "      <div>\n",
              "<style scoped>\n",
              "    .dataframe tbody tr th:only-of-type {\n",
              "        vertical-align: middle;\n",
              "    }\n",
              "\n",
              "    .dataframe tbody tr th {\n",
              "        vertical-align: top;\n",
              "    }\n",
              "\n",
              "    .dataframe thead th {\n",
              "        text-align: right;\n",
              "    }\n",
              "</style>\n",
              "<table border=\"1\" class=\"dataframe\">\n",
              "  <thead>\n",
              "    <tr style=\"text-align: right;\">\n",
              "      <th></th>\n",
              "      <th>sales</th>\n",
              "      <th>quantity</th>\n",
              "      <th>discount</th>\n",
              "      <th>profit</th>\n",
              "      <th>shipping_cost</th>\n",
              "      <th>year</th>\n",
              "    </tr>\n",
              "  </thead>\n",
              "  <tbody>\n",
              "    <tr>\n",
              "      <th>count</th>\n",
              "      <td>51290.000000</td>\n",
              "      <td>51290.000000</td>\n",
              "      <td>51290.000000</td>\n",
              "      <td>51290.000000</td>\n",
              "      <td>51290.000000</td>\n",
              "      <td>51290.000000</td>\n",
              "    </tr>\n",
              "    <tr>\n",
              "      <th>mean</th>\n",
              "      <td>246.498440</td>\n",
              "      <td>3.476545</td>\n",
              "      <td>0.142908</td>\n",
              "      <td>28.641740</td>\n",
              "      <td>26.375915</td>\n",
              "      <td>2012.777208</td>\n",
              "    </tr>\n",
              "    <tr>\n",
              "      <th>std</th>\n",
              "      <td>487.567175</td>\n",
              "      <td>2.278766</td>\n",
              "      <td>0.212280</td>\n",
              "      <td>174.424113</td>\n",
              "      <td>57.296804</td>\n",
              "      <td>1.098931</td>\n",
              "    </tr>\n",
              "    <tr>\n",
              "      <th>min</th>\n",
              "      <td>0.000000</td>\n",
              "      <td>1.000000</td>\n",
              "      <td>0.000000</td>\n",
              "      <td>-6599.978000</td>\n",
              "      <td>0.000000</td>\n",
              "      <td>2011.000000</td>\n",
              "    </tr>\n",
              "    <tr>\n",
              "      <th>25%</th>\n",
              "      <td>31.000000</td>\n",
              "      <td>2.000000</td>\n",
              "      <td>0.000000</td>\n",
              "      <td>0.000000</td>\n",
              "      <td>2.610000</td>\n",
              "      <td>2012.000000</td>\n",
              "    </tr>\n",
              "    <tr>\n",
              "      <th>50%</th>\n",
              "      <td>85.000000</td>\n",
              "      <td>3.000000</td>\n",
              "      <td>0.000000</td>\n",
              "      <td>9.240000</td>\n",
              "      <td>7.790000</td>\n",
              "      <td>2013.000000</td>\n",
              "    </tr>\n",
              "    <tr>\n",
              "      <th>75%</th>\n",
              "      <td>251.000000</td>\n",
              "      <td>5.000000</td>\n",
              "      <td>0.200000</td>\n",
              "      <td>36.810000</td>\n",
              "      <td>24.450000</td>\n",
              "      <td>2014.000000</td>\n",
              "    </tr>\n",
              "    <tr>\n",
              "      <th>max</th>\n",
              "      <td>22638.000000</td>\n",
              "      <td>14.000000</td>\n",
              "      <td>0.850000</td>\n",
              "      <td>8399.976000</td>\n",
              "      <td>933.570000</td>\n",
              "      <td>2014.000000</td>\n",
              "    </tr>\n",
              "  </tbody>\n",
              "</table>\n",
              "</div>\n",
              "      <button class=\"colab-df-convert\" onclick=\"convertToInteractive('df-3b8b10d3-4570-4f3a-a6d4-e888c5e9f381')\"\n",
              "              title=\"Convert this dataframe to an interactive table.\"\n",
              "              style=\"display:none;\">\n",
              "        \n",
              "  <svg xmlns=\"http://www.w3.org/2000/svg\" height=\"24px\"viewBox=\"0 0 24 24\"\n",
              "       width=\"24px\">\n",
              "    <path d=\"M0 0h24v24H0V0z\" fill=\"none\"/>\n",
              "    <path d=\"M18.56 5.44l.94 2.06.94-2.06 2.06-.94-2.06-.94-.94-2.06-.94 2.06-2.06.94zm-11 1L8.5 8.5l.94-2.06 2.06-.94-2.06-.94L8.5 2.5l-.94 2.06-2.06.94zm10 10l.94 2.06.94-2.06 2.06-.94-2.06-.94-.94-2.06-.94 2.06-2.06.94z\"/><path d=\"M17.41 7.96l-1.37-1.37c-.4-.4-.92-.59-1.43-.59-.52 0-1.04.2-1.43.59L10.3 9.45l-7.72 7.72c-.78.78-.78 2.05 0 2.83L4 21.41c.39.39.9.59 1.41.59.51 0 1.02-.2 1.41-.59l7.78-7.78 2.81-2.81c.8-.78.8-2.07 0-2.86zM5.41 20L4 18.59l7.72-7.72 1.47 1.35L5.41 20z\"/>\n",
              "  </svg>\n",
              "      </button>\n",
              "      \n",
              "  <style>\n",
              "    .colab-df-container {\n",
              "      display:flex;\n",
              "      flex-wrap:wrap;\n",
              "      gap: 12px;\n",
              "    }\n",
              "\n",
              "    .colab-df-convert {\n",
              "      background-color: #E8F0FE;\n",
              "      border: none;\n",
              "      border-radius: 50%;\n",
              "      cursor: pointer;\n",
              "      display: none;\n",
              "      fill: #1967D2;\n",
              "      height: 32px;\n",
              "      padding: 0 0 0 0;\n",
              "      width: 32px;\n",
              "    }\n",
              "\n",
              "    .colab-df-convert:hover {\n",
              "      background-color: #E2EBFA;\n",
              "      box-shadow: 0px 1px 2px rgba(60, 64, 67, 0.3), 0px 1px 3px 1px rgba(60, 64, 67, 0.15);\n",
              "      fill: #174EA6;\n",
              "    }\n",
              "\n",
              "    [theme=dark] .colab-df-convert {\n",
              "      background-color: #3B4455;\n",
              "      fill: #D2E3FC;\n",
              "    }\n",
              "\n",
              "    [theme=dark] .colab-df-convert:hover {\n",
              "      background-color: #434B5C;\n",
              "      box-shadow: 0px 1px 3px 1px rgba(0, 0, 0, 0.15);\n",
              "      filter: drop-shadow(0px 1px 2px rgba(0, 0, 0, 0.3));\n",
              "      fill: #FFFFFF;\n",
              "    }\n",
              "  </style>\n",
              "\n",
              "      <script>\n",
              "        const buttonEl =\n",
              "          document.querySelector('#df-3b8b10d3-4570-4f3a-a6d4-e888c5e9f381 button.colab-df-convert');\n",
              "        buttonEl.style.display =\n",
              "          google.colab.kernel.accessAllowed ? 'block' : 'none';\n",
              "\n",
              "        async function convertToInteractive(key) {\n",
              "          const element = document.querySelector('#df-3b8b10d3-4570-4f3a-a6d4-e888c5e9f381');\n",
              "          const dataTable =\n",
              "            await google.colab.kernel.invokeFunction('convertToInteractive',\n",
              "                                                     [key], {});\n",
              "          if (!dataTable) return;\n",
              "\n",
              "          const docLinkHtml = 'Like what you see? Visit the ' +\n",
              "            '<a target=\"_blank\" href=https://colab.research.google.com/notebooks/data_table.ipynb>data table notebook</a>'\n",
              "            + ' to learn more about interactive tables.';\n",
              "          element.innerHTML = '';\n",
              "          dataTable['output_type'] = 'display_data';\n",
              "          await google.colab.output.renderOutput(dataTable, element);\n",
              "          const docLink = document.createElement('div');\n",
              "          docLink.innerHTML = docLinkHtml;\n",
              "          element.appendChild(docLink);\n",
              "        }\n",
              "      </script>\n",
              "    </div>\n",
              "  </div>\n",
              "  "
            ]
          },
          "metadata": {},
          "execution_count": 624
        }
      ],
      "source": [
        "store.describe()"
      ]
    },
    {
      "cell_type": "markdown",
      "metadata": {
        "id": "_4kgqcIxQ0Qi"
      },
      "source": [
        "#**Q1: Which segment is the best seller?**"
      ]
    },
    {
      "cell_type": "code",
      "execution_count": null,
      "metadata": {
        "id": "h4T4IE1bzrf2"
      },
      "outputs": [],
      "source": [
        "store.fillna(value= store[\"quantity\"].min(),inplace = True)"
      ]
    },
    {
      "cell_type": "code",
      "execution_count": null,
      "metadata": {
        "colab": {
          "base_uri": "https://localhost:8080/"
        },
        "id": "xY2ZS1AjewxB",
        "outputId": "c57b817a-ab40-4556-9de0-d9746a52b345"
      },
      "outputs": [
        {
          "output_type": "execute_result",
          "data": {
            "text/plain": [
              "segment\n",
              "Consumer       92157\n",
              "Corporate      53565\n",
              "Home Office    32590\n",
              "Name: quantity, dtype: int64"
            ]
          },
          "metadata": {},
          "execution_count": 626
        }
      ],
      "source": [
        "quan=store.groupby(\"segment\").quantity.sum()\n",
        "quan"
      ]
    },
    {
      "cell_type": "code",
      "execution_count": null,
      "metadata": {
        "id": "OuWq5AquWHph"
      },
      "outputs": [],
      "source": [
        "quan_key=quan.keys()"
      ]
    },
    {
      "cell_type": "code",
      "execution_count": null,
      "metadata": {
        "colab": {
          "base_uri": "https://localhost:8080/",
          "height": 331
        },
        "id": "rvFomaXnetMP",
        "outputId": "a1652aa5-cb0f-4d6c-c83c-d10954831a73"
      },
      "outputs": [
        {
          "output_type": "display_data",
          "data": {
            "text/plain": [
              "<Figure size 360x432 with 1 Axes>"
            ],
            "image/png": "[encoded data removed]"
          },
          "metadata": {}
        }
      ],
      "source": [
        "plt.figure(figsize=(5,6))\n",
        "colors = sns.color_palette(\"Set2\")\n",
        "explode = [0.0, 0.0, 0.0]\n",
        "plt.title(\"best seller segment\",color=\"indigo\",size=20)\n",
        "plt.pie(quan,labels=quan_key,colors = colors,explode=explode,autopct=\"%2.1f%%\")\n",
        "plt.show()"
      ]
    },
    {
      "cell_type": "markdown",
      "metadata": {
        "id": "7xZu-wGxtl9G"
      },
      "source": [
        "***The consumer segment is the best seller***"
      ]
    },
    {
      "cell_type": "markdown",
      "metadata": {
        "id": "uUiFAb6X1Bg-"
      },
      "source": [
        "#**Q2 :What are the highest selling and lowest selling sub category ?**"
      ]
    },
    {
      "cell_type": "code",
      "execution_count": null,
      "metadata": {
        "colab": {
          "base_uri": "https://localhost:8080/"
        },
        "id": "zDn9Df6oNTiR",
        "outputId": "6b993363-8f16-4668-911f-74809f3082b1"
      },
      "outputs": [
        {
          "output_type": "execute_result",
          "data": {
            "text/plain": [
              "Binders        6152\n",
              "Storage        5059\n",
              "Art            4883\n",
              "Paper          3538\n",
              "Chairs         3434\n",
              "Phones         3357\n",
              "Furnishings    3170\n",
              "Accessories    3075\n",
              "Labels         2606\n",
              "Envelopes      2435\n",
              "Supplies       2425\n",
              "Fasteners      2420\n",
              "Bookcases      2411\n",
              "Copiers        2223\n",
              "Appliances     1755\n",
              "Machines       1486\n",
              "Tables          861\n",
              "Name: sub_category, dtype: int64"
            ]
          },
          "metadata": {},
          "execution_count": 629
        }
      ],
      "source": [
        "subCat=store[\"sub_category\"].value_counts()\n",
        "subCat\n"
      ]
    },
    {
      "cell_type": "code",
      "execution_count": null,
      "metadata": {
        "colab": {
          "base_uri": "https://localhost:8080/"
        },
        "id": "Sf6D4ZfP7HNi",
        "outputId": "6bbf63e8-fe1c-430c-aad3-e4dfa40e575b"
      },
      "outputs": [
        {
          "output_type": "execute_result",
          "data": {
            "text/plain": [
              "Index(['Binders', 'Storage', 'Art', 'Paper', 'Chairs', 'Phones', 'Furnishings',\n",
              "       'Accessories', 'Labels', 'Envelopes', 'Supplies', 'Fasteners',\n",
              "       'Bookcases', 'Copiers', 'Appliances', 'Machines', 'Tables'],\n",
              "      dtype='object')"
            ]
          },
          "metadata": {},
          "execution_count": 630
        }
      ],
      "source": [
        "subcatKey=subCat.keys()\n",
        "subcatKey"
      ]
    },
    {
      "cell_type": "markdown",
      "metadata": {
        "id": "DfsC8uHxojc1"
      },
      "source": [
        "***Ans:The highest and lowest selling sub category are respectively Binders and Tables***"
      ]
    },
    {
      "cell_type": "code",
      "execution_count": null,
      "metadata": {
        "colab": {
          "base_uri": "https://localhost:8080/",
          "height": 579
        },
        "id": "HNjNHY4vs1yE",
        "outputId": "bcd29076-01ad-40a7-e490-aa3792b0e893"
      },
      "outputs": [
        {
          "output_type": "execute_result",
          "data": {
            "text/plain": [
              "<function matplotlib.pyplot.show(*args, **kw)>"
            ]
          },
          "metadata": {},
          "execution_count": 631
        },
        {
          "output_type": "display_data",
          "data": {
            "text/plain": [
              "<Figure size 1296x576 with 1 Axes>"
            ],
            "image/png": "[encoded data removed]"
          },
          "metadata": {
            "needs_background": "light"
          }
        }
      ],
      "source": [
        "plt.figure(figsize=(18,8))\n",
        "#plt.bar(subcatKey,subCat,color=\"teal\")\n",
        "sns.barplot(x=subcatKey,y=subCat)\n",
        "plt.title(\"the Highest selling and Lowest Selling Sub-Category\",color=\"blue\")\n",
        "plt.xlabel(\"sub category\",color=\"purple\")\n",
        "plt.ylabel(\"value counts\",color=\"purple\")\n",
        "plt.grid(False)\n",
        "plt.xticks(rotation=90)\n",
        "plt.show"
      ]
    },
    {
      "cell_type": "markdown",
      "metadata": {
        "id": "sN207OR73CWn"
      },
      "source": [
        "#**Q3 : Who are the top 10 customers of the super store and how much of their repartition of the profit ?**"
      ]
    },
    {
      "cell_type": "markdown",
      "metadata": {
        "id": "89bkN504ByLD"
      },
      "source": []
    },
    {
      "cell_type": "code",
      "execution_count": null,
      "metadata": {
        "colab": {
          "base_uri": "https://localhost:8080/"
        },
        "id": "U5STgXOjylAM",
        "outputId": "fc1ffcb0-d690-4910-8d1f-cbdd0e3c8fc4"
      },
      "outputs": [
        {
          "output_type": "execute_result",
          "data": {
            "text/plain": [
              "customer_name\n",
              "Tamara Chand       8672.89890\n",
              "Raymond Buch       8453.04950\n",
              "Sanjit Chand       8205.37990\n",
              "Hunter Lopez       7816.56778\n",
              "Bill Eplett        7410.00530\n",
              "                      ...    \n",
              "Skye Norling      -2637.98050\n",
              "Candace McMahon   -2798.79060\n",
              "Grant Thornton    -3577.92306\n",
              "Luke Foster       -3644.34750\n",
              "Cindy Stewart     -6151.55810\n",
              "Name: profit, Length: 795, dtype: float64"
            ]
          },
          "metadata": {},
          "execution_count": 632
        }
      ],
      "source": [
        "topCustomer=store.groupby(\"customer_name\").profit.sum().sort_values(ascending=False)\n",
        "topCustomer"
      ]
    },
    {
      "cell_type": "code",
      "execution_count": null,
      "metadata": {
        "colab": {
          "base_uri": "https://localhost:8080/"
        },
        "id": "ikqaXTAjCQ3b",
        "outputId": "340f6bd0-9623-4d33-d504-2f71f3e1ab8d"
      },
      "outputs": [
        {
          "output_type": "execute_result",
          "data": {
            "text/plain": [
              "customer_name\n",
              "Tamara Chand       8672.89890\n",
              "Raymond Buch       8453.04950\n",
              "Sanjit Chand       8205.37990\n",
              "Hunter Lopez       7816.56778\n",
              "Bill Eplett        7410.00530\n",
              "Harry Marie        6958.28640\n",
              "Susan Pistek       6484.40726\n",
              "Mike Gockenbach    6458.67620\n",
              "Adrian Barton      6417.28450\n",
              "Tom Ashbrook       6311.97910\n",
              "Name: profit, dtype: float64"
            ]
          },
          "metadata": {},
          "execution_count": 633
        }
      ],
      "source": [
        "top10customer=topCustomer[:10]\n",
        "top10customer"
      ]
    },
    {
      "cell_type": "code",
      "execution_count": null,
      "metadata": {
        "colab": {
          "base_uri": "https://localhost:8080/"
        },
        "id": "NAWuzMUPEJCa",
        "outputId": "7d05eb8d-0bae-4f13-90c7-5b0d7a32218c"
      },
      "outputs": [
        {
          "output_type": "execute_result",
          "data": {
            "text/plain": [
              "['Tamara Chand',\n",
              " 'Raymond Buch',\n",
              " 'Sanjit Chand',\n",
              " 'Hunter Lopez',\n",
              " 'Bill Eplett',\n",
              " 'Harry Marie',\n",
              " 'Susan Pistek',\n",
              " 'Mike Gockenbach',\n",
              " 'Adrian Barton',\n",
              " 'Tom Ashbrook']"
            ]
          },
          "metadata": {},
          "execution_count": 634
        }
      ],
      "source": [
        "customerKey = list(top10customer.keys())\n",
        "customerKey"
      ]
    },
    {
      "cell_type": "markdown",
      "metadata": {
        "id": "188uMfdypCqx"
      },
      "source": [
        "***Ans : the top 10 customer according to profit'Tamara Chand',\n",
        " 'Raymond Buch',\n",
        " 'Sanjit Chand',\n",
        " 'Hunter Lopez',\n",
        " 'Bill Eplett',\n",
        "'Harry Marie',\n",
        " 'Susan Pistek',\n",
        " 'Mike Gockenbach',\n",
        " 'Adrian Barton',\n",
        " 'Tom Ashbrook***"
      ]
    },
    {
      "cell_type": "code",
      "execution_count": null,
      "metadata": {
        "colab": {
          "base_uri": "https://localhost:8080/",
          "height": 499
        },
        "id": "xcEG2Sr4EmAi",
        "outputId": "816f8297-3ce8-4db9-c724-b285f1a55bab"
      },
      "outputs": [
        {
          "output_type": "execute_result",
          "data": {
            "text/plain": [
              "<function matplotlib.pyplot.show(*args, **kw)>"
            ]
          },
          "metadata": {},
          "execution_count": 635
        },
        {
          "output_type": "display_data",
          "data": {
            "text/plain": [
              "<Figure size 1152x432 with 1 Axes>"
            ],
            "image/png": "[encoded data removed]"
          },
          "metadata": {
            "needs_background": "light"
          }
        }
      ],
      "source": [
        "plt.figure(figsize=(16,6))\n",
        "sns.barplot(x=customerKey,y=top10customer)\n",
        "plt.title(\"Top 10 Customer\",color=\"blue\")\n",
        "plt.xlabel(\"customer name\",color=\"purple\")\n",
        "plt.ylabel(\"profit\",color=\"purple\")\n",
        "plt.xticks(rotation=90)\n",
        "plt.show"
      ]
    },
    {
      "cell_type": "code",
      "execution_count": null,
      "metadata": {
        "id": "CC2Y7KOiGKtF"
      },
      "outputs": [],
      "source": [
        "totalprofit=store.groupby(\"customer_name\").profit.sum()\n",
        "x=totalprofit.sum()"
      ]
    },
    {
      "cell_type": "code",
      "execution_count": null,
      "metadata": {
        "colab": {
          "base_uri": "https://localhost:8080/"
        },
        "id": "8ifjwcAN0iOj",
        "outputId": "2039bd64-fdad-4d95-eaa4-e2e187279a3c"
      },
      "outputs": [
        {
          "output_type": "execute_result",
          "data": {
            "text/plain": [
              "73188.53484"
            ]
          },
          "metadata": {},
          "execution_count": 637
        }
      ],
      "source": [
        "top10Profit=top10customer.sum()\n",
        "a=top10Profit.sum()\n",
        "a"
      ]
    },
    {
      "cell_type": "code",
      "execution_count": null,
      "metadata": {
        "id": "-ig8oyJ-4873"
      },
      "outputs": [],
      "source": [
        "remainingProfit=(x-a)\n",
        "b=remainingProfit\n"
      ]
    },
    {
      "cell_type": "code",
      "execution_count": null,
      "metadata": {
        "colab": {
          "base_uri": "https://localhost:8080/"
        },
        "id": "HOsYLrDu68jA",
        "outputId": "d299d254-eed2-448f-8b08-bc331eb62471"
      },
      "outputs": [
        {
          "output_type": "execute_result",
          "data": {
            "text/plain": [
              "top_customer       42222.23920\n",
              "other_customer    512996.42284\n",
              "dtype: float64"
            ]
          },
          "metadata": {},
          "execution_count": 639
        }
      ],
      "source": [
        "data=pd.Series({\"top_customer\":42222.2391999999964,\"other_customer\":512996.42283999996})\n",
        "data"
      ]
    },
    {
      "cell_type": "code",
      "execution_count": null,
      "metadata": {
        "id": "GSofOSYi9VB7"
      },
      "outputs": [],
      "source": [
        "partitionkeylist=list(data.keys())"
      ]
    },
    {
      "cell_type": "code",
      "execution_count": null,
      "metadata": {
        "id": "Bcpv0gDi6vX8",
        "colab": {
          "base_uri": "https://localhost:8080/",
          "height": 331
        },
        "outputId": "2af9bc91-da3d-4987-b938-67b8a83ad8d1"
      },
      "outputs": [
        {
          "output_type": "display_data",
          "data": {
            "text/plain": [
              "<Figure size 360x432 with 1 Axes>"
            ],
            "image/png": "[encoded data removed]"
          },
          "metadata": {}
        }
      ],
      "source": [
        "plt.figure(figsize=(5,6))\n",
        "colors = sns.color_palette('Set2')[0:5]\n",
        "explode = [0.0, 0.2]\n",
        "plt.title(\"repartition of the profit of  customers'\",color=\"indigo\",size=20)\n",
        "plt.pie(data,labels=partitionkeylist,colors = colors,explode=explode,autopct=\"%2.1f%%\")\n",
        "plt.show()"
      ]
    },
    {
      "cell_type": "markdown",
      "metadata": {
        "id": "VWdvHNVqCjoo"
      },
      "source": [
        "***the percetage of profit of top 10 customer is 7.6 out of total profit***"
      ]
    },
    {
      "cell_type": "markdown",
      "metadata": {
        "id": "qNNqWFuJ-E1T"
      },
      "source": [
        "#**Q4 : which region has the highest order count and in which region do we need to grow our business**"
      ]
    },
    {
      "cell_type": "code",
      "execution_count": null,
      "metadata": {
        "id": "1nRht8Yhop0m",
        "colab": {
          "base_uri": "https://localhost:8080/"
        },
        "outputId": "aa6faee5-d40c-42f2-a171-1740a109c4a1"
      },
      "outputs": [
        {
          "output_type": "execute_result",
          "data": {
            "text/plain": [
              "region\n",
              "Canada             201\n",
              "Caribbean          855\n",
              "Central Asia      1026\n",
              "North Asia        1150\n",
              "East              1401\n",
              "Southeast Asia    1517\n",
              "West              1611\n",
              "Oceania           1744\n",
              "Africa            2232\n",
              "North             2356\n",
              "EMEA              2462\n",
              "South             3270\n",
              "Central           5249\n",
              "Name: order_id, dtype: int64"
            ]
          },
          "metadata": {},
          "execution_count": 642
        }
      ],
      "source": [
        "reg=store.groupby(\"region\").order_id.nunique().sort_values(ascending=True)\n",
        "reg"
      ]
    },
    {
      "cell_type": "code",
      "execution_count": null,
      "metadata": {
        "id": "tP_jFxfYL-vJ",
        "colab": {
          "base_uri": "https://localhost:8080/"
        },
        "outputId": "db1b701b-4c8f-46a6-8377-63b9dcbdb1ac"
      },
      "outputs": [
        {
          "output_type": "execute_result",
          "data": {
            "text/plain": [
              "['Canada',\n",
              " 'Caribbean',\n",
              " 'Central Asia',\n",
              " 'North Asia',\n",
              " 'East',\n",
              " 'Southeast Asia',\n",
              " 'West',\n",
              " 'Oceania',\n",
              " 'Africa',\n",
              " 'North',\n",
              " 'EMEA',\n",
              " 'South',\n",
              " 'Central']"
            ]
          },
          "metadata": {},
          "execution_count": 643
        }
      ],
      "source": [
        "regKey=reg.keys()\n",
        "regkeylist=list(regKey)\n",
        "regkeylist"
      ]
    },
    {
      "cell_type": "markdown",
      "metadata": {
        "id": "O7dlZO26qCM7"
      },
      "source": [
        "***Ans : The super store got the highest order count from central region anad it needs to grow business in Canda ***\n"
      ]
    },
    {
      "cell_type": "code",
      "execution_count": null,
      "metadata": {
        "id": "_uXFNdEEMTXg",
        "colab": {
          "base_uri": "https://localhost:8080/",
          "height": 421
        },
        "outputId": "5fe0583c-01dd-40ba-dbb2-04d07ee8fd79"
      },
      "outputs": [
        {
          "output_type": "execute_result",
          "data": {
            "text/plain": [
              "<function matplotlib.pyplot.show(*args, **kw)>"
            ]
          },
          "metadata": {},
          "execution_count": 644
        },
        {
          "output_type": "display_data",
          "data": {
            "text/plain": [
              "<Figure size 1152x432 with 1 Axes>"
            ],
            "image/png": "[encoded data removed]"
          },
          "metadata": {
            "needs_background": "light"
          }
        }
      ],
      "source": [
        "plt.figure(figsize=(16,6))\n",
        "sns.barplot(x=regkeylist,y=reg)\n",
        "plt.title(\"order count of the region\",color=\"blue\")\n",
        "plt.xlabel(\"region\",color=\"purple\")\n",
        "plt.ylabel(\"order count\",color=\"purple\")\n",
        "plt.show"
      ]
    },
    {
      "cell_type": "markdown",
      "metadata": {
        "id": "9d8d6VzG-zFh"
      },
      "source": [
        "#**Q5 : What are the Top 10 states with highest order count?**"
      ]
    },
    {
      "cell_type": "code",
      "execution_count": null,
      "metadata": {
        "id": "-ExLd91RNP8x"
      },
      "outputs": [],
      "source": [
        "states=store.groupby(\"state\").order_id.nunique().sort_values(ascending=False)"
      ]
    },
    {
      "cell_type": "code",
      "execution_count": null,
      "metadata": {
        "id": "wozcUZb0N2ch",
        "colab": {
          "base_uri": "https://localhost:8080/"
        },
        "outputId": "fa2e3af4-883c-41bd-ec13-d178c36fd3d9"
      },
      "outputs": [
        {
          "output_type": "execute_result",
          "data": {
            "text/plain": [
              "state\n",
              "California                1021\n",
              "England                    699\n",
              "New York                   562\n",
              "Texas                      487\n",
              "Ile-de-France              468\n",
              "New South Wales            388\n",
              "Queensland                 374\n",
              "North Rhine-Westphalia     336\n",
              "San Salvador               307\n",
              "Pennsylvania               288\n",
              "Name: order_id, dtype: int64"
            ]
          },
          "metadata": {},
          "execution_count": 646
        }
      ],
      "source": [
        "states10=states[:10]\n",
        "states10"
      ]
    },
    {
      "cell_type": "code",
      "execution_count": null,
      "metadata": {
        "id": "5U1lcPhrOYSw",
        "colab": {
          "base_uri": "https://localhost:8080/"
        },
        "outputId": "b3546197-1494-4200-d56d-56aae570ec49"
      },
      "outputs": [
        {
          "output_type": "execute_result",
          "data": {
            "text/plain": [
              "['California',\n",
              " 'England',\n",
              " 'New York',\n",
              " 'Texas',\n",
              " 'Ile-de-France',\n",
              " 'New South Wales',\n",
              " 'Queensland',\n",
              " 'North Rhine-Westphalia',\n",
              " 'San Salvador',\n",
              " 'Pennsylvania']"
            ]
          },
          "metadata": {},
          "execution_count": 647
        }
      ],
      "source": [
        "stateKey=states10.keys()\n",
        "statelist=list(stateKey)\n",
        "statelist"
      ]
    },
    {
      "cell_type": "markdown",
      "metadata": {
        "id": "DexQQIJErHkP"
      },
      "source": [
        "***Ans :The top 10 states with highest order count are California',\n",
        " 'England',\n",
        " 'New York',\n",
        " 'Texas',\n",
        " 'Ile-de-France',\n",
        " 'New South Wales',\n",
        " 'Queensland',\n",
        " 'North Rhine-Westphalia',\n",
        " 'San Salvador',\n",
        " 'Pennsylvania***"
      ]
    },
    {
      "cell_type": "code",
      "execution_count": null,
      "metadata": {
        "id": "HOakd6WTOg0z",
        "colab": {
          "base_uri": "https://localhost:8080/",
          "height": 529
        },
        "outputId": "cf9f4ba0-42ba-4a3d-c3bc-f7d173bfb45e"
      },
      "outputs": [
        {
          "output_type": "execute_result",
          "data": {
            "text/plain": [
              "<function matplotlib.pyplot.show(*args, **kw)>"
            ]
          },
          "metadata": {},
          "execution_count": 648
        },
        {
          "output_type": "display_data",
          "data": {
            "text/plain": [
              "<Figure size 1152x432 with 1 Axes>"
            ],
            "image/png": "[encoded data removed]"
          },
          "metadata": {
            "needs_background": "light"
          }
        }
      ],
      "source": [
        "plt.figure(figsize=(16,6))\n",
        "sns.barplot(x=statelist,y=states10)\n",
        "plt.title(\"Top 10 states with highest order count\",color=\"blue\")\n",
        "plt.xlabel(\"state\",color=\"purple\")\n",
        "plt.ylabel(\"order count\",color=\"purple\")\n",
        "plt.xticks(rotation=90)\n",
        "plt.show"
      ]
    },
    {
      "cell_type": "markdown",
      "metadata": {
        "id": "HlrkbKshWKUa"
      },
      "source": [
        "#**Q6: Analyzing the Data by Country**"
      ]
    },
    {
      "cell_type": "markdown",
      "metadata": {
        "id": "YDttCofSZqrf"
      },
      "source": [
        "**i) profit**"
      ]
    },
    {
      "cell_type": "code",
      "execution_count": null,
      "metadata": {
        "id": "VJiqrE_hWJYR",
        "colab": {
          "base_uri": "https://localhost:8080/"
        },
        "outputId": "0416457b-204a-4264-fdef-d2b1ab84a432"
      },
      "outputs": [
        {
          "output_type": "execute_result",
          "data": {
            "text/plain": [
              "country\n",
              "United States     286397.02170\n",
              "China             150683.08500\n",
              "India             129071.83500\n",
              "United Kingdom    111900.15000\n",
              "France            109029.00300\n",
              "Germany           107322.82050\n",
              "Australia         105484.96300\n",
              "Mexico            102818.09752\n",
              "Spain              54390.12000\n",
              "El Salvador        42023.24320\n",
              "Name: profit, dtype: float64"
            ]
          },
          "metadata": {},
          "execution_count": 649
        }
      ],
      "source": [
        "pro_country=store.groupby(\"country\").profit.sum().sort_values(ascending=False)[:10]\n",
        "pro_country"
      ]
    },
    {
      "cell_type": "code",
      "execution_count": null,
      "metadata": {
        "id": "l3JqTX10XfTh"
      },
      "outputs": [],
      "source": [
        "pro_country_key=pro_country.keys()"
      ]
    },
    {
      "cell_type": "code",
      "execution_count": null,
      "metadata": {
        "id": "R5rYB1zJZGu-",
        "colab": {
          "base_uri": "https://localhost:8080/",
          "height": 421
        },
        "outputId": "e231e96a-359e-4349-86f2-0315d604970a"
      },
      "outputs": [
        {
          "output_type": "execute_result",
          "data": {
            "text/plain": [
              "<function matplotlib.pyplot.show(*args, **kw)>"
            ]
          },
          "metadata": {},
          "execution_count": 651
        },
        {
          "output_type": "display_data",
          "data": {
            "text/plain": [
              "<Figure size 1152x432 with 1 Axes>"
            ],
            "image/png": "[encoded data removed]"
          },
          "metadata": {
            "needs_background": "light"
          }
        }
      ],
      "source": [
        "plt.figure(figsize=(16,6))\n",
        "#plt.bar(statelist,states10,color=\"crimson\")\n",
        "sns.barplot(x=pro_country,y=pro_country_key,palette=\"Dark2\")\n",
        "plt.title(\"profit oriented country\",color=\"blue\")\n",
        "plt.xlabel(\"profit\",color=\"purple\")\n",
        "plt.ylabel(\"country\",color=\"purple\")\n",
        "plt.show"
      ]
    },
    {
      "cell_type": "markdown",
      "metadata": {
        "id": "D_QTHjhKaJ_H"
      },
      "source": [
        "**ii) value count**"
      ]
    },
    {
      "cell_type": "code",
      "execution_count": null,
      "metadata": {
        "id": "kk9jW1WAaIlp",
        "colab": {
          "base_uri": "https://localhost:8080/"
        },
        "outputId": "c8c55f6f-a876-4bae-b449-2abc1723e13e"
      },
      "outputs": [
        {
          "output_type": "execute_result",
          "data": {
            "text/plain": [
              "United States     9994\n",
              "Australia         2837\n",
              "France            2827\n",
              "Mexico            2644\n",
              "Germany           2065\n",
              "China             1880\n",
              "United Kingdom    1633\n",
              "Brazil            1599\n",
              "India             1555\n",
              "Indonesia         1390\n",
              "Name: country, dtype: int64"
            ]
          },
          "metadata": {},
          "execution_count": 652
        }
      ],
      "source": [
        "value_count_country=store[\"country\"].value_counts().sort_values(ascending=False)[:10]\n",
        "value_count_country"
      ]
    },
    {
      "cell_type": "code",
      "execution_count": null,
      "metadata": {
        "id": "SrKfZYAFZnbe"
      },
      "outputs": [],
      "source": [
        "value_count_country_key=value_count_country.keys()"
      ]
    },
    {
      "cell_type": "code",
      "execution_count": null,
      "metadata": {
        "id": "qxmsoC_mM_P1",
        "colab": {
          "base_uri": "https://localhost:8080/",
          "height": 421
        },
        "outputId": "c29dde10-075b-4992-dd96-390911fcbb0d"
      },
      "outputs": [
        {
          "output_type": "execute_result",
          "data": {
            "text/plain": [
              "<function matplotlib.pyplot.show(*args, **kw)>"
            ]
          },
          "metadata": {},
          "execution_count": 654
        },
        {
          "output_type": "display_data",
          "data": {
            "text/plain": [
              "<Figure size 1152x432 with 1 Axes>"
            ],
            "image/png": "[encoded data removed]"
          },
          "metadata": {
            "needs_background": "light"
          }
        }
      ],
      "source": [
        "plt.figure(figsize=(16,6))\n",
        "sns.barplot(x=value_count_country,y=value_count_country_key,palette=\"gist_rainbow\")\n",
        "plt.title(\"count of the country\",color=\"blue\")\n",
        "plt.xlabel(\"country\",color=\"purple\")\n",
        "plt.ylabel(\"count\",color=\"purple\")\n",
        "plt.show"
      ]
    },
    {
      "cell_type": "markdown",
      "metadata": {
        "id": "rWcTbZaENVKD"
      },
      "source": [
        "**iii) Sales**"
      ]
    },
    {
      "cell_type": "code",
      "execution_count": null,
      "metadata": {
        "id": "6iSo3ZslNgdy",
        "colab": {
          "base_uri": "https://localhost:8080/"
        },
        "outputId": "dd308cfd-dbed-4322-ccfd-ab6410056925"
      },
      "outputs": [
        {
          "output_type": "execute_result",
          "data": {
            "text/plain": [
              "country\n",
              "United States     2297354.0\n",
              "Australia          925257.0\n",
              "France             858930.0\n",
              "China              700591.0\n",
              "Germany            628857.0\n",
              "Mexico             622620.0\n",
              "India              589664.0\n",
              "United Kingdom     528570.0\n",
              "Indonesia          404887.0\n",
              "Brazil             361098.0\n",
              "Name: sales, dtype: float64"
            ]
          },
          "metadata": {},
          "execution_count": 655
        }
      ],
      "source": [
        "sales_country=store.groupby(\"country\").sales.sum().sort_values(ascending=False)[:10]\n",
        "sales_country"
      ]
    },
    {
      "cell_type": "code",
      "execution_count": null,
      "metadata": {
        "id": "n-JIlXZxQ2kK"
      },
      "outputs": [],
      "source": [
        "sales_country_key=sales_country.keys()"
      ]
    },
    {
      "cell_type": "code",
      "execution_count": null,
      "metadata": {
        "id": "bO7thoihY_oM",
        "colab": {
          "base_uri": "https://localhost:8080/",
          "height": 421
        },
        "outputId": "9cda6c31-ed3a-40a2-e526-873b17814338"
      },
      "outputs": [
        {
          "output_type": "execute_result",
          "data": {
            "text/plain": [
              "<function matplotlib.pyplot.show(*args, **kw)>"
            ]
          },
          "metadata": {},
          "execution_count": 657
        },
        {
          "output_type": "display_data",
          "data": {
            "text/plain": [
              "<Figure size 1152x432 with 1 Axes>"
            ],
            "image/png": "[encoded data removed]"
          },
          "metadata": {
            "needs_background": "light"
          }
        }
      ],
      "source": [
        "plt.figure(figsize=(16,6))\n",
        "sns.barplot(x=sales_country_key,y=sales_country)\n",
        "plt.title(\"sales of the country\",color=\"blue\")\n",
        "plt.xlabel(\"country\",color=\"purple\")\n",
        "plt.ylabel(\"sales\",color=\"purple\")\n",
        "plt.show"
      ]
    },
    {
      "cell_type": "markdown",
      "metadata": {
        "id": "ZA26Swk4QW2i"
      },
      "source": [
        "**iv) quantity**"
      ]
    },
    {
      "cell_type": "code",
      "execution_count": null,
      "metadata": {
        "id": "TK9thoxBQhzR",
        "colab": {
          "base_uri": "https://localhost:8080/"
        },
        "outputId": "98be3539-a79b-4cfd-8371-e3aa61794c3d"
      },
      "outputs": [
        {
          "output_type": "execute_result",
          "data": {
            "text/plain": [
              "country\n",
              "United States     37873\n",
              "France            10804\n",
              "Australia         10673\n",
              "Mexico            10011\n",
              "Germany            7745\n",
              "China              7081\n",
              "United Kingdom     6161\n",
              "Brazil             6148\n",
              "India              5758\n",
              "Indonesia          5237\n",
              "Name: quantity, dtype: int64"
            ]
          },
          "metadata": {},
          "execution_count": 658
        }
      ],
      "source": [
        "country_quantity=store.groupby(\"country\").quantity.sum().sort_values(ascending=False)[:10]\n",
        "country_quantity"
      ]
    },
    {
      "cell_type": "code",
      "execution_count": null,
      "metadata": {
        "id": "FVFy2Sa7SvVK",
        "colab": {
          "base_uri": "https://localhost:8080/"
        },
        "outputId": "964e643a-06a6-4a0c-99f5-91ba10a9c8cf"
      },
      "outputs": [
        {
          "output_type": "execute_result",
          "data": {
            "text/plain": [
              "Index(['United States', 'France', 'Australia', 'Mexico', 'Germany', 'China',\n",
              "       'United Kingdom', 'Brazil', 'India', 'Indonesia'],\n",
              "      dtype='object', name='country')"
            ]
          },
          "metadata": {},
          "execution_count": 659
        }
      ],
      "source": [
        "country_quantity_key=country_quantity.keys()\n",
        "country_quantity_key"
      ]
    },
    {
      "cell_type": "code",
      "execution_count": null,
      "metadata": {
        "id": "WMjJtPGFS-23",
        "colab": {
          "base_uri": "https://localhost:8080/",
          "height": 421
        },
        "outputId": "eded99a5-bd3d-4a17-9353-cc4e94b79680"
      },
      "outputs": [
        {
          "output_type": "execute_result",
          "data": {
            "text/plain": [
              "<function matplotlib.pyplot.show(*args, **kw)>"
            ]
          },
          "metadata": {},
          "execution_count": 660
        },
        {
          "output_type": "display_data",
          "data": {
            "text/plain": [
              "<Figure size 1152x432 with 1 Axes>"
            ],
            "image/png": "[encoded data removed]"
          },
          "metadata": {
            "needs_background": "light"
          }
        }
      ],
      "source": [
        "plt.figure(figsize=(16,6))\n",
        "sns.barplot(x=country_quantity,y=country_quantity_key,palette=\"gist_rainbow_r\")\n",
        "plt.title(\"quantity of the country\",color=\"blue\")\n",
        "plt.xlabel(\"quantity\",color=\"purple\")\n",
        "plt.ylabel(\"country\",color=\"purple\")\n",
        "plt.show"
      ]
    },
    {
      "cell_type": "markdown",
      "metadata": {
        "id": "n3h57nqcdv9Z"
      },
      "source": [
        "**v) discount**"
      ]
    },
    {
      "cell_type": "code",
      "execution_count": null,
      "metadata": {
        "id": "VD9xZ9kZduwD",
        "colab": {
          "base_uri": "https://localhost:8080/"
        },
        "outputId": "4a20ba1f-96bd-4de4-c1f5-396ce4f78612"
      },
      "outputs": [
        {
          "output_type": "execute_result",
          "data": {
            "text/plain": [
              "country\n",
              "United States    1561.090\n",
              "Turkey            826.800\n",
              "Nigeria           633.500\n",
              "Indonesia         413.260\n",
              "Australia         407.200\n",
              "Honduras          290.072\n",
              "Philippines       235.550\n",
              "Brazil            232.822\n",
              "Netherlands       209.600\n",
              "France            204.350\n",
              "Name: discount, dtype: float64"
            ]
          },
          "metadata": {},
          "execution_count": 661
        }
      ],
      "source": [
        "country_dis=store.groupby(\"country\").discount.sum().sort_values(ascending=False)[:10]\n",
        "country_dis"
      ]
    },
    {
      "cell_type": "code",
      "execution_count": null,
      "metadata": {
        "id": "QDI_fhfseP8B"
      },
      "outputs": [],
      "source": [
        "country_dis_key=country_dis.keys()"
      ]
    },
    {
      "cell_type": "code",
      "execution_count": null,
      "metadata": {
        "id": "4Z25ozYOeYTg",
        "colab": {
          "base_uri": "https://localhost:8080/",
          "height": 421
        },
        "outputId": "e054dca9-3490-4fd5-820f-4104a89e43d1"
      },
      "outputs": [
        {
          "output_type": "execute_result",
          "data": {
            "text/plain": [
              "<function matplotlib.pyplot.show(*args, **kw)>"
            ]
          },
          "metadata": {},
          "execution_count": 663
        },
        {
          "output_type": "display_data",
          "data": {
            "text/plain": [
              "<Figure size 1152x432 with 1 Axes>"
            ],
            "image/png": "[encoded data removed]"
          },
          "metadata": {
            "needs_background": "light"
          }
        }
      ],
      "source": [
        "plt.figure(figsize=(16,6))\n",
        "sns.barplot(x=country_dis,y=country_dis_key,palette=\"Paired\")\n",
        "plt.title(\"discount of the country \",color=\"blue\")\n",
        "plt.xlabel(\"discount\",color=\"purple\")\n",
        "plt.ylabel(\"country\",color=\"purple\")\n",
        "plt.show"
      ]
    },
    {
      "cell_type": "markdown",
      "metadata": {
        "id": "_CFLKZ2xV6dL"
      },
      "source": [
        "#**Q7: Growth of Superstore Sales over the year 2011-2014?**"
      ]
    },
    {
      "cell_type": "code",
      "execution_count": null,
      "metadata": {
        "id": "LvYS-VP3MevU",
        "colab": {
          "base_uri": "https://localhost:8080/"
        },
        "outputId": "c95bed16-bc06-4efc-c8e4-a9c9d289e8a8"
      },
      "outputs": [
        {
          "output_type": "execute_result",
          "data": {
            "text/plain": [
              "year\n",
              "2011    2259511.0\n",
              "2012    2677493.0\n",
              "2013    3405860.0\n",
              "2014    4300041.0\n",
              "Name: sales, dtype: float64"
            ]
          },
          "metadata": {},
          "execution_count": 664
        }
      ],
      "source": [
        "growth_rate =store.groupby(\"year\").sales.sum()\n",
        "growth_rate"
      ]
    },
    {
      "cell_type": "code",
      "execution_count": null,
      "metadata": {
        "id": "MKlWOCJIqMWW"
      },
      "outputs": [],
      "source": [
        "year=growth_rate.keys()"
      ]
    },
    {
      "cell_type": "code",
      "execution_count": null,
      "metadata": {
        "id": "GxBHBj00qsuL",
        "colab": {
          "base_uri": "https://localhost:8080/",
          "height": 530
        },
        "outputId": "e86cea5b-ed79-43da-ae8e-dffa03de5d27"
      },
      "outputs": [
        {
          "output_type": "execute_result",
          "data": {
            "text/plain": [
              "<function matplotlib.pyplot.show(*args, **kw)>"
            ]
          },
          "metadata": {},
          "execution_count": 666
        },
        {
          "output_type": "display_data",
          "data": {
            "text/plain": [
              "<Figure size 1296x576 with 1 Axes>"
            ],
            "image/png": "[encoded data removed]"
          },
          "metadata": {
            "needs_background": "light"
          }
        }
      ],
      "source": [
        "plt.figure(figsize=(18,8))\n",
        "sns.lineplot(x=year,y=growth_rate,color= \"green\")\n",
        "plt.title(\"Growth of the Sales over the year 2011-2014\",color=\"red\")\n",
        "plt.xlabel(\"year\",color=\"purple\")\n",
        "plt.ylabel(\"sales\",color=\"purple\")\n",
        "plt.show"
      ]
    },
    {
      "cell_type": "markdown",
      "metadata": {
        "id": "iW_lDXajFvXh"
      },
      "source": [
        "***the business is growing every Year***"
      ]
    },
    {
      "cell_type": "markdown",
      "metadata": {
        "id": "zqkIuSSrf_sC"
      },
      "source": [
        "#**Q8: Analyzing Profit**"
      ]
    },
    {
      "cell_type": "markdown",
      "metadata": {
        "id": "vKUZOLYSgK8B"
      },
      "source": [
        "**i )segment**"
      ]
    },
    {
      "cell_type": "code",
      "execution_count": null,
      "metadata": {
        "id": "vlJiyw0Hf_Ke"
      },
      "outputs": [],
      "source": [
        "seg_pro=store.groupby(\"segment\").profit.sum().sort_values(ascending=False)"
      ]
    },
    {
      "cell_type": "code",
      "execution_count": null,
      "metadata": {
        "id": "oBxSioohN2Ut"
      },
      "outputs": [],
      "source": [
        "seg_pro_key=seg_pro.keys()"
      ]
    },
    {
      "cell_type": "code",
      "execution_count": null,
      "metadata": {
        "id": "mBUcNMYTDSiP",
        "colab": {
          "base_uri": "https://localhost:8080/",
          "height": 421
        },
        "outputId": "2f80eb16-e18a-483e-8f65-ba99ce0c04d8"
      },
      "outputs": [
        {
          "output_type": "execute_result",
          "data": {
            "text/plain": [
              "<function matplotlib.pyplot.show(*args, **kw)>"
            ]
          },
          "metadata": {},
          "execution_count": 669
        },
        {
          "output_type": "display_data",
          "data": {
            "text/plain": [
              "<Figure size 648x432 with 1 Axes>"
            ],
            "image/png": "[encoded data removed]"
          },
          "metadata": {
            "needs_background": "light"
          }
        }
      ],
      "source": [
        "plt.figure(figsize=(9,6))\n",
        "sns.barplot(x=seg_pro_key,y=seg_pro,palette=\"Set2_r\")\n",
        "plt.title(\"segment according to profit\",color=\"blue\")\n",
        "plt.xlabel(\"segment\",color=\"purple\")\n",
        "plt.ylabel(\"profit\",color=\"purple\")\n",
        "plt.show"
      ]
    },
    {
      "cell_type": "markdown",
      "metadata": {
        "id": "f9-UyKNZgnY0"
      },
      "source": [
        "**ii) category**"
      ]
    },
    {
      "cell_type": "code",
      "execution_count": null,
      "metadata": {
        "id": "IxthoTMcgmyH",
        "colab": {
          "base_uri": "https://localhost:8080/"
        },
        "outputId": "93789ec4-0a54-4c89-a9aa-18104070e303"
      },
      "outputs": [
        {
          "output_type": "execute_result",
          "data": {
            "text/plain": [
              "category\n",
              "Technology         663778.73318\n",
              "Office Supplies    518473.83430\n",
              "Furniture          286782.25380\n",
              "Name: profit, dtype: float64"
            ]
          },
          "metadata": {},
          "execution_count": 670
        }
      ],
      "source": [
        "cat_pro=store.groupby(\"category\").profit.sum().sort_values(ascending=False)\n",
        "cat_pro\n"
      ]
    },
    {
      "cell_type": "code",
      "execution_count": null,
      "metadata": {
        "id": "q_vyRsCVOOKH"
      },
      "outputs": [],
      "source": [
        "cat_pro_key=cat_pro.keys()"
      ]
    },
    {
      "cell_type": "code",
      "execution_count": null,
      "metadata": {
        "id": "2V00m6r3yMnx",
        "colab": {
          "base_uri": "https://localhost:8080/",
          "height": 421
        },
        "outputId": "7f6f3fc6-15cb-456f-b17b-9a782e8dd972"
      },
      "outputs": [
        {
          "output_type": "execute_result",
          "data": {
            "text/plain": [
              "<function matplotlib.pyplot.show(*args, **kw)>"
            ]
          },
          "metadata": {},
          "execution_count": 672
        },
        {
          "output_type": "display_data",
          "data": {
            "text/plain": [
              "<Figure size 720x432 with 1 Axes>"
            ],
            "image/png": "[encoded data removed]"
          },
          "metadata": {
            "needs_background": "light"
          }
        }
      ],
      "source": [
        "plt.figure(figsize=(10,6))\n",
        "sns.barplot(x=cat_pro_key,y=cat_pro,palette=\"cubehelix\")\n",
        "plt.title(\"category according to profit\",color=\"blue\")\n",
        "plt.xlabel(\"category\",color=\"purple\")\n",
        "plt.ylabel(\"profit\",color=\"purple\")\n",
        "plt.show"
      ]
    },
    {
      "cell_type": "markdown",
      "metadata": {
        "id": "iTlPLDXJg4g0"
      },
      "source": [
        "**iii) sub category**"
      ]
    },
    {
      "cell_type": "code",
      "execution_count": null,
      "metadata": {
        "id": "4GttFFw_g4Dl",
        "colab": {
          "base_uri": "https://localhost:8080/"
        },
        "outputId": "92c1a17a-9036-46ca-ef4c-d99fbbbb0aee"
      },
      "outputs": [
        {
          "output_type": "execute_result",
          "data": {
            "text/plain": [
              "sub_category\n",
              "Copiers       258567.54818\n",
              "Phones        216717.00580\n",
              "Bookcases     161924.41950\n",
              "Chairs        141973.79750\n",
              "Appliances    141680.58940\n",
              "Name: profit, dtype: float64"
            ]
          },
          "metadata": {},
          "execution_count": 673
        }
      ],
      "source": [
        "subcat_pro=store.groupby(\"sub_category\").profit.sum().sort_values(ascending=False)[:5]\n",
        "subcat_pro"
      ]
    },
    {
      "cell_type": "code",
      "execution_count": null,
      "metadata": {
        "id": "eWtQbYlRPGwV",
        "colab": {
          "base_uri": "https://localhost:8080/"
        },
        "outputId": "2abb2a1c-5e1e-4817-e3ba-b37b6f8c08a1"
      },
      "outputs": [
        {
          "output_type": "execute_result",
          "data": {
            "text/plain": [
              "Index(['Copiers', 'Phones', 'Bookcases', 'Chairs', 'Appliances'], dtype='object', name='sub_category')"
            ]
          },
          "metadata": {},
          "execution_count": 674
        }
      ],
      "source": [
        "subcat_pro_key=subcat_pro.keys()\n",
        "subcat_pro_key"
      ]
    },
    {
      "cell_type": "code",
      "execution_count": null,
      "metadata": {
        "id": "EXnfU0yDyemk",
        "colab": {
          "base_uri": "https://localhost:8080/",
          "height": 421
        },
        "outputId": "93da9331-9d2f-4381-ad8a-0fef725ab111"
      },
      "outputs": [
        {
          "output_type": "execute_result",
          "data": {
            "text/plain": [
              "<function matplotlib.pyplot.show(*args, **kw)>"
            ]
          },
          "metadata": {},
          "execution_count": 675
        },
        {
          "output_type": "display_data",
          "data": {
            "text/plain": [
              "<Figure size 720x432 with 1 Axes>"
            ],
            "image/png": "[encoded data removed]"
          },
          "metadata": {
            "needs_background": "light"
          }
        }
      ],
      "source": [
        "plt.figure(figsize=(10,6))\n",
        "sns.barplot(x=subcat_pro_key,y=subcat_pro,palette=\"cubehelix_r\")\n",
        "plt.title(\"top 5 sub category according to profit\",color=\"blue\")\n",
        "plt.xlabel(\"sub category\",color=\"purple\")\n",
        "plt.ylabel(\"profit\",color=\"purple\")\n",
        "plt.show"
      ]
    },
    {
      "cell_type": "markdown",
      "metadata": {
        "id": "lr7k8aSKg-pz"
      },
      "source": [
        "**iv) product**"
      ]
    },
    {
      "cell_type": "code",
      "execution_count": null,
      "metadata": {
        "id": "3UFSR_DlhaJP"
      },
      "outputs": [],
      "source": [
        "product_pro=store.groupby(\"product_name\").profit.sum().sort_values(ascending=False)[:5]"
      ]
    },
    {
      "cell_type": "code",
      "execution_count": null,
      "metadata": {
        "id": "dTge3qQWhqua",
        "colab": {
          "base_uri": "https://localhost:8080/"
        },
        "outputId": "270036f8-2f92-4e13-d7d2-8790f8c1fc65"
      },
      "outputs": [
        {
          "output_type": "execute_result",
          "data": {
            "text/plain": [
              "Index(['Canon imageCLASS 2200 Advanced Copier', 'Cisco Smart Phone, Full Size',\n",
              "       'Motorola Smart Phone, Full Size', 'Hoover Stove, Red',\n",
              "       'Sauder Classic Bookcase, Traditional'],\n",
              "      dtype='object', name='product_name')"
            ]
          },
          "metadata": {},
          "execution_count": 677
        }
      ],
      "source": [
        "product_pro_key=product_pro.keys()\n",
        "product_pro_key"
      ]
    },
    {
      "cell_type": "code",
      "execution_count": null,
      "metadata": {
        "id": "N5shq-Z3y6Ch",
        "colab": {
          "base_uri": "https://localhost:8080/",
          "height": 421
        },
        "outputId": "64cdc2b0-f79d-43cd-9d2c-f145d99a0a67"
      },
      "outputs": [
        {
          "output_type": "execute_result",
          "data": {
            "text/plain": [
              "<function matplotlib.pyplot.show(*args, **kw)>"
            ]
          },
          "metadata": {},
          "execution_count": 678
        },
        {
          "output_type": "display_data",
          "data": {
            "text/plain": [
              "<Figure size 720x432 with 1 Axes>"
            ],
            "image/png": "[encoded data removed]"
          },
          "metadata": {
            "needs_background": "light"
          }
        }
      ],
      "source": [
        "plt.figure(figsize=(10,6))\n",
        "sns.barplot(x=product_pro,y=product_pro_key,palette=\"inferno\")\n",
        "plt.title(\"top 5 profit-oriented product\",color=\"blue\")\n",
        "plt.xlabel(\"profit\",color=\"purple\")\n",
        "plt.ylabel(\"product\",color=\"purple\")\n",
        "plt.show"
      ]
    },
    {
      "cell_type": "markdown",
      "metadata": {
        "id": "R3aIrhzIhcWy"
      },
      "source": [
        "**v) shipment mode**"
      ]
    },
    {
      "cell_type": "code",
      "execution_count": null,
      "metadata": {
        "id": "HafDQ77zhtyq",
        "colab": {
          "base_uri": "https://localhost:8080/"
        },
        "outputId": "8bafa836-d2fc-4023-d10e-05db1f12a1bc"
      },
      "outputs": [
        {
          "output_type": "execute_result",
          "data": {
            "text/plain": [
              "ship_mode\n",
              "Standard Class    890596.02120\n",
              "Second Class      294161.05708\n",
              "First Class       208104.67520\n",
              "Same Day           76173.06780\n",
              "Name: profit, dtype: float64"
            ]
          },
          "metadata": {},
          "execution_count": 679
        }
      ],
      "source": [
        "ship_pro=store.groupby(\"ship_mode\").profit.sum().sort_values(ascending=False)\n",
        "ship_pro"
      ]
    },
    {
      "cell_type": "code",
      "execution_count": null,
      "metadata": {
        "id": "z3L4OskJQlwg"
      },
      "outputs": [],
      "source": [
        "ship_pro_key=ship_pro.keys()"
      ]
    },
    {
      "cell_type": "code",
      "execution_count": null,
      "metadata": {
        "id": "t9rFUqCwzMcg",
        "colab": {
          "base_uri": "https://localhost:8080/",
          "height": 421
        },
        "outputId": "0c3e8257-0a5f-4e30-a0d0-d5ff90d2bbf7"
      },
      "outputs": [
        {
          "output_type": "execute_result",
          "data": {
            "text/plain": [
              "<function matplotlib.pyplot.show(*args, **kw)>"
            ]
          },
          "metadata": {},
          "execution_count": 580
        },
        {
          "output_type": "display_data",
          "data": {
            "text/plain": [
              "<Figure size 720x432 with 1 Axes>"
            ],
            "image/png": "[encoded data removed]"
          },
          "metadata": {
            "needs_background": "light"
          }
        }
      ],
      "source": [
        "plt.figure(figsize=(10,6))\n",
        "sns.barplot(x=ship_pro,y=ship_pro_key,palette=\"inferno_r\")\n",
        "plt.title(\"ship_mode based on profit \",color=\"blue\")\n",
        "plt.xlabel(\"profit\",color=\"purple\")\n",
        "plt.ylabel(\"shp mode\",color=\"purple\")\n",
        "plt.show"
      ]
    },
    {
      "cell_type": "markdown",
      "metadata": {
        "id": "97EXv5XwhvFR"
      },
      "source": [
        "**vi) year** "
      ]
    },
    {
      "cell_type": "code",
      "execution_count": null,
      "metadata": {
        "id": "UFrYWJBfh-BW"
      },
      "outputs": [],
      "source": [
        "year_pro=store.groupby(\"year\").profit.sum().sort_values(ascending=False)"
      ]
    },
    {
      "cell_type": "code",
      "execution_count": null,
      "metadata": {
        "id": "pGV9mQd0RzUD"
      },
      "outputs": [],
      "source": [
        "year_pro_key=year_pro.keys()"
      ]
    },
    {
      "cell_type": "code",
      "execution_count": null,
      "metadata": {
        "id": "1g2SLFCN2m-F",
        "colab": {
          "base_uri": "https://localhost:8080/",
          "height": 530
        },
        "outputId": "92dab365-6a85-49fa-8ade-3aeb6e962dd4"
      },
      "outputs": [
        {
          "output_type": "execute_result",
          "data": {
            "text/plain": [
              "<function matplotlib.pyplot.show(*args, **kw)>"
            ]
          },
          "metadata": {},
          "execution_count": 583
        },
        {
          "output_type": "display_data",
          "data": {
            "text/plain": [
              "<Figure size 1296x576 with 1 Axes>"
            ],
            "image/png": "[encoded data removed]"
          },
          "metadata": {
            "needs_background": "light"
          }
        }
      ],
      "source": [
        "plt.figure(figsize=(18,8))\n",
        "sns.lineplot(x=year_pro_key,y=year_pro,color = \"blue\")\n",
        "plt.title(\"Growth of the Profit over the year 2011-2014\",color=\"red\")\n",
        "plt.xlabel(\"year\",color=\"purple\")\n",
        "plt.ylabel(\"profit\",color=\"purple\")\n",
        "plt.show"
      ]
    },
    {
      "cell_type": "markdown",
      "metadata": {
        "id": "NS48pim8iKoi"
      },
      "source": [
        "**vii) state**"
      ]
    },
    {
      "cell_type": "code",
      "execution_count": null,
      "metadata": {
        "id": "Na85X4r8iQ8r"
      },
      "outputs": [],
      "source": [
        "state_pro=store.groupby(\"state\").profit.sum().sort_values(ascending=False)[:5]"
      ]
    },
    {
      "cell_type": "code",
      "execution_count": null,
      "metadata": {
        "id": "DMDgO1XfSPAL",
        "colab": {
          "base_uri": "https://localhost:8080/"
        },
        "outputId": "2dea93e9-5a09-4c2e-c207-53380313671d"
      },
      "outputs": [
        {
          "output_type": "execute_result",
          "data": {
            "text/plain": [
              "Index(['England', 'California', 'New York', 'New South Wales',\n",
              "       'Ile-de-France'],\n",
              "      dtype='object', name='state')"
            ]
          },
          "metadata": {},
          "execution_count": 585
        }
      ],
      "source": [
        "state_pro_key=state_pro.keys()\n",
        "state_pro_key"
      ]
    },
    {
      "cell_type": "code",
      "execution_count": null,
      "metadata": {
        "id": "lm_XX4KBzmhM",
        "colab": {
          "base_uri": "https://localhost:8080/",
          "height": 421
        },
        "outputId": "a686eab8-19ae-46ef-8856-eab485a68fb1"
      },
      "outputs": [
        {
          "output_type": "execute_result",
          "data": {
            "text/plain": [
              "<function matplotlib.pyplot.show(*args, **kw)>"
            ]
          },
          "metadata": {},
          "execution_count": 586
        },
        {
          "output_type": "display_data",
          "data": {
            "text/plain": [
              "<Figure size 1080x432 with 1 Axes>"
            ],
            "image/png": "[encoded data removed]"
          },
          "metadata": {
            "needs_background": "light"
          }
        }
      ],
      "source": [
        "plt.figure(figsize=(15,6))\n",
        "sns.barplot(x=state_pro,y=state_pro_key,palette=\"Dark2\")\n",
        "plt.title(\"Top 5 profit oriented state\",color=\"blue\")\n",
        "plt.xlabel(\"state\",color=\"purple\")\n",
        "plt.ylabel(\"profit\",color=\"purple\")\n",
        "plt.show"
      ]
    },
    {
      "cell_type": "markdown",
      "metadata": {
        "id": "90oJ0bnLiRtA"
      },
      "source": [
        "**viii) market**"
      ]
    },
    {
      "cell_type": "code",
      "execution_count": null,
      "metadata": {
        "id": "fPV1pjXCiZLs",
        "colab": {
          "base_uri": "https://localhost:8080/"
        },
        "outputId": "0710a8eb-36a2-499e-b9fd-d569d4369a0f"
      },
      "outputs": [
        {
          "output_type": "execute_result",
          "data": {
            "text/plain": [
              "market\n",
              "APAC      437577.57900\n",
              "EU        372829.74150\n",
              "US        286397.02170\n",
              "LATAM     221643.48708\n",
              "Africa     88871.63100\n",
              "EMEA       43897.97100\n",
              "Canada     17817.39000\n",
              "Name: profit, dtype: float64"
            ]
          },
          "metadata": {},
          "execution_count": 587
        }
      ],
      "source": [
        "market_pro=store.groupby(\"market\").profit.sum().sort_values(ascending=False)\n",
        "market_pro"
      ]
    },
    {
      "cell_type": "code",
      "execution_count": null,
      "metadata": {
        "id": "5Whc2kC7SvM9"
      },
      "outputs": [],
      "source": [
        "market_pro_key=market_pro.keys()"
      ]
    },
    {
      "cell_type": "code",
      "execution_count": null,
      "metadata": {
        "id": "DduqK0_3zvkB",
        "colab": {
          "base_uri": "https://localhost:8080/",
          "height": 407
        },
        "outputId": "07dadc41-a551-4628-8f9a-2a1e322d80e3"
      },
      "outputs": [
        {
          "output_type": "execute_result",
          "data": {
            "text/plain": [
              "<function matplotlib.pyplot.show(*args, **kw)>"
            ]
          },
          "metadata": {},
          "execution_count": 589
        },
        {
          "output_type": "display_data",
          "data": {
            "text/plain": [
              "<Figure size 1152x432 with 1 Axes>"
            ],
            "image/png": "[encoded data removed]"
          },
          "metadata": {
            "needs_background": "light"
          }
        }
      ],
      "source": [
        "plt.figure(figsize=(16,6))\n",
        "sns.barplot(x=market_pro,y=market_pro_key,palette=\"magma\")\n",
        "plt.title(\"market based on profit\",color=\"blue\")\n",
        "plt.xlabel(\"\",color=\"purple\")\n",
        "plt.ylabel(\"order count\",color=\"purple\")\n",
        "plt.show"
      ]
    },
    {
      "cell_type": "markdown",
      "metadata": {
        "id": "TJbVLymhTcbJ"
      },
      "source": [
        "#**Q9) What are the top 10 most selling Products?**"
      ]
    },
    {
      "cell_type": "code",
      "execution_count": null,
      "metadata": {
        "id": "oWAwGto1Uqai"
      },
      "outputs": [],
      "source": [
        "top_10_prod=store[\"product_name\"].value_counts().sort_values(ascending=False)[:10]"
      ]
    },
    {
      "cell_type": "code",
      "execution_count": null,
      "metadata": {
        "id": "Fyzr8RbvUqVE"
      },
      "outputs": [],
      "source": [
        "top_10_prod_key=top_10_prod.keys()"
      ]
    },
    {
      "cell_type": "code",
      "execution_count": null,
      "metadata": {
        "id": "7Ti8d-TRv83r",
        "colab": {
          "base_uri": "https://localhost:8080/",
          "height": 548
        },
        "outputId": "f1132638-80b7-45f1-a94e-c8a0fa2d36d8"
      },
      "outputs": [
        {
          "output_type": "execute_result",
          "data": {
            "text/plain": [
              "<function matplotlib.pyplot.show(*args, **kw)>"
            ]
          },
          "metadata": {},
          "execution_count": 592
        },
        {
          "output_type": "display_data",
          "data": {
            "text/plain": [
              "<Figure size 1296x360 with 1 Axes>"
            ],
            "image/png": "[encoded data removed]"
          },
          "metadata": {
            "needs_background": "light"
          }
        }
      ],
      "source": [
        "plt.figure(figsize=(18,5))\n",
        "sns.barplot(x=top_10_prod_key,y=top_10_prod,palette=\"crest\")\n",
        "plt.title(\"Top 10 selling product\",color=\"blue\")\n",
        "plt.xlabel(\"product name\",color=\"purple\")\n",
        "plt.ylabel(\"count\",color=\"purple\")\n",
        "plt.xticks(rotation=90)\n",
        "plt.show"
      ]
    },
    {
      "cell_type": "markdown",
      "metadata": {
        "id": "TDv6sJxcy9rx"
      },
      "source": [
        "#**Q10: What is the most preferred Shipment Mode?**"
      ]
    },
    {
      "cell_type": "code",
      "execution_count": null,
      "metadata": {
        "id": "S7jBUunuyG42"
      },
      "outputs": [],
      "source": [
        "ship_mode=store[\"ship_mode\"].value_counts()"
      ]
    },
    {
      "cell_type": "code",
      "execution_count": null,
      "metadata": {
        "id": "xGQlrXdj0wWe"
      },
      "outputs": [],
      "source": [
        "ship_mode_key=ship_mode.keys()"
      ]
    },
    {
      "cell_type": "code",
      "execution_count": null,
      "metadata": {
        "id": "QSlSs86P0iXJ",
        "colab": {
          "base_uri": "https://localhost:8080/",
          "height": 432
        },
        "outputId": "22268eb5-f76f-4039-f252-6f93454d6951"
      },
      "outputs": [
        {
          "output_type": "execute_result",
          "data": {
            "text/plain": [
              "<function matplotlib.pyplot.show(*args, **kw)>"
            ]
          },
          "metadata": {},
          "execution_count": 595
        },
        {
          "output_type": "display_data",
          "data": {
            "text/plain": [
              "<Figure size 720x360 with 1 Axes>"
            ],
            "image/png": "[encoded data removed]"
          },
          "metadata": {
            "needs_background": "light"
          }
        }
      ],
      "source": [
        "plt.figure(figsize=(10,5))\n",
        "sns.barplot(x=ship_mode_key,y=ship_mode,palette=\"brg\")\n",
        "plt.title(\"Ship_Mode\",color=\"blue\")\n",
        "plt.xlabel(\"Ship Mode name\",color=\"purple\")\n",
        "plt.ylabel(\"count\",color=\"purple\")\n",
        "plt.xticks(rotation=90)\n",
        "plt.show"
      ]
    },
    {
      "cell_type": "markdown",
      "metadata": {
        "id": "h7wzC2TX4MDs"
      },
      "source": [
        "***ans:The most preffered ship mode is Standard Class***"
      ]
    },
    {
      "cell_type": "markdown",
      "metadata": {
        "id": "l4sxlvbS1Eq0"
      },
      "source": [
        "#**Q11: In which Region the store is giving more discount and what is the most profitable region?**"
      ]
    },
    {
      "cell_type": "code",
      "execution_count": null,
      "metadata": {
        "id": "JP_trDrg1Q6J",
        "colab": {
          "base_uri": "https://localhost:8080/"
        },
        "outputId": "2f3e755a-6eda-4aea-b858-3f0f4be3431f"
      },
      "outputs": [
        {
          "output_type": "execute_result",
          "data": {
            "text/plain": [
              "region\n",
              "Canada               0.000\n",
              "North Asia         113.900\n",
              "Central Asia       138.200\n",
              "Caribbean          229.420\n",
              "West               350.200\n",
              "East               414.000\n",
              "North              459.630\n",
              "Oceania            534.100\n",
              "Africa             718.800\n",
              "Southeast Asia     851.330\n",
              "EMEA               986.100\n",
              "South              990.438\n",
              "Central           1543.610\n",
              "Name: discount, dtype: float64"
            ]
          },
          "metadata": {},
          "execution_count": 596
        }
      ],
      "source": [
        "discount=store.groupby(\"region\").discount.sum().sort_values()\n",
        "discount"
      ]
    },
    {
      "cell_type": "code",
      "execution_count": null,
      "metadata": {
        "id": "T2t0--E23FxC"
      },
      "outputs": [],
      "source": [
        "discount_key=discount.keys()"
      ]
    },
    {
      "cell_type": "code",
      "execution_count": null,
      "metadata": {
        "id": "yNh_hmIe3SDH",
        "colab": {
          "base_uri": "https://localhost:8080/",
          "height": 431
        },
        "outputId": "54dd9674-0bd1-4ed6-fbb4-50c038e490e3"
      },
      "outputs": [
        {
          "output_type": "execute_result",
          "data": {
            "text/plain": [
              "<function matplotlib.pyplot.show(*args, **kw)>"
            ]
          },
          "metadata": {},
          "execution_count": 598
        },
        {
          "output_type": "display_data",
          "data": {
            "text/plain": [
              "<Figure size 720x360 with 1 Axes>"
            ],
            "image/png": "[encoded data removed]"
          },
          "metadata": {
            "needs_background": "light"
          }
        }
      ],
      "source": [
        "plt.figure(figsize=(10,5))\n",
        "sns.barplot(x=discount_key,y=discount,palette=\"brg_r\")\n",
        "plt.title(\"discount_region\",color=\"blue\")\n",
        "plt.xlabel(\"region\",color=\"purple\")\n",
        "plt.ylabel(\"discount\",color=\"purple\")\n",
        "plt.xticks(rotation=90)\n",
        "plt.show"
      ]
    },
    {
      "cell_type": "markdown",
      "metadata": {
        "id": "ar1TTCbD4X5A"
      },
      "source": [
        "***ans: In central region the store is giving more discount***"
      ]
    },
    {
      "cell_type": "code",
      "execution_count": null,
      "metadata": {
        "id": "elrBF6-l4hD-",
        "colab": {
          "base_uri": "https://localhost:8080/"
        },
        "outputId": "9ce5bccf-86d1-4b0c-8aeb-896e3892611b"
      },
      "outputs": [
        {
          "output_type": "execute_result",
          "data": {
            "text/plain": [
              "region\n",
              "Africa             88871.63100\n",
              "Canada             17817.39000\n",
              "Caribbean          34571.32104\n",
              "Central           311403.98164\n",
              "Central Asia      132480.18700\n",
              "EMEA               43897.97100\n",
              "East               91522.78000\n",
              "North             194597.95252\n",
              "North Asia        165578.42100\n",
              "Oceania           121666.64200\n",
              "South             140355.76618\n",
              "Southeast Asia     17852.32900\n",
              "West              108418.44890\n",
              "Name: profit, dtype: float64"
            ]
          },
          "metadata": {},
          "execution_count": 599
        }
      ],
      "source": [
        "reg_pro=store.groupby(\"region\").profit.sum()\n",
        "reg_pro"
      ]
    },
    {
      "cell_type": "code",
      "execution_count": null,
      "metadata": {
        "id": "sH_6KJwg5CS6"
      },
      "outputs": [],
      "source": [
        "reg_pro_key=reg_pro.keys()"
      ]
    },
    {
      "cell_type": "code",
      "execution_count": null,
      "metadata": {
        "colab": {
          "base_uri": "https://localhost:8080/",
          "height": 431
        },
        "id": "d6fX3BI85MZB",
        "outputId": "84c9b2a6-4ad2-4a4b-e36e-9b383e983d44"
      },
      "outputs": [
        {
          "output_type": "execute_result",
          "data": {
            "text/plain": [
              "<function matplotlib.pyplot.show(*args, **kw)>"
            ]
          },
          "metadata": {},
          "execution_count": 601
        },
        {
          "output_type": "display_data",
          "data": {
            "text/plain": [
              "<Figure size 1296x360 with 1 Axes>"
            ],
            "image/png": "[encoded data removed]"
          },
          "metadata": {
            "needs_background": "light"
          }
        }
      ],
      "source": [
        "plt.figure(figsize=(18,5))\n",
        "sns.barplot(x=discount_key,y=discount,palette=\"hsv\")\n",
        "plt.title(\"profit_region\",color=\"blue\")\n",
        "plt.xlabel(\"reg_pro\",color=\"purple\")\n",
        "plt.ylabel(\"reg_pro_key\",color=\"purple\")\n",
        "plt.xticks(rotation=90)\n",
        "plt.show"
      ]
    },
    {
      "cell_type": "markdown",
      "metadata": {
        "id": "VD1rkEEBHnkJ"
      },
      "source": [
        "***central region is the most profitable region***"
      ]
    },
    {
      "cell_type": "markdown",
      "metadata": {
        "id": "hk00egoD6hHx"
      },
      "source": [
        "#**Q12: Creating only Profit/Loss DataFrame to calculate Total Profit & Loss of the superstore from 2011-2014 and the Net Profit**"
      ]
    },
    {
      "cell_type": "code",
      "execution_count": null,
      "metadata": {
        "id": "iG_Men4AQZL6"
      },
      "outputs": [],
      "source": [
        "pro_filt=store[\"profit\"]>0"
      ]
    },
    {
      "cell_type": "code",
      "execution_count": null,
      "metadata": {
        "colab": {
          "base_uri": "https://localhost:8080/"
        },
        "id": "iuQzuDBasLrn",
        "outputId": "f4978bd7-e15c-4980-f450-c85f509ba387"
      },
      "outputs": [
        {
          "output_type": "execute_result",
          "data": {
            "text/plain": [
              "2389392.212"
            ]
          },
          "metadata": {},
          "execution_count": 603
        }
      ],
      "source": [
        "total_pro=store.loc[pro_filt,\"profit\"].sum()\n",
        "total_pro"
      ]
    },
    {
      "cell_type": "code",
      "execution_count": null,
      "metadata": {
        "id": "qPG4q5MKtXsP"
      },
      "outputs": [],
      "source": [
        "loss_filt=store.loc[~pro_filt]"
      ]
    },
    {
      "cell_type": "code",
      "execution_count": null,
      "metadata": {
        "colab": {
          "base_uri": "https://localhost:8080/"
        },
        "id": "844KP9jbuX16",
        "outputId": "afb1a344-5d9d-4dee-cc3d-8e2d411d459b"
      },
      "outputs": [
        {
          "output_type": "execute_result",
          "data": {
            "text/plain": [
              "920357.39072"
            ]
          },
          "metadata": {},
          "execution_count": 605
        }
      ],
      "source": [
        "total_loss=-(loss_filt[\"profit\"].sum())\n",
        "total_loss\n"
      ]
    },
    {
      "cell_type": "code",
      "execution_count": null,
      "metadata": {
        "colab": {
          "base_uri": "https://localhost:8080/"
        },
        "id": "9fFx5gTAwJt4",
        "outputId": "9bf3ac6d-aa62-49cc-d622-3a380cabf44a"
      },
      "outputs": [
        {
          "output_type": "execute_result",
          "data": {
            "text/plain": [
              "1469034.8212799998"
            ]
          },
          "metadata": {},
          "execution_count": 606
        }
      ],
      "source": [
        "Net_Profit=total_pro-total_loss\n",
        "Net_Profit"
      ]
    },
    {
      "cell_type": "code",
      "execution_count": null,
      "metadata": {
        "colab": {
          "base_uri": "https://localhost:8080/",
          "height": 80
        },
        "id": "gegeuez7w5VI",
        "outputId": "473706c1-cb10-4b92-ad89-19a788372aa9"
      },
      "outputs": [
        {
          "output_type": "execute_result",
          "data": {
            "text/plain": [
              "   Total_Profit    Total_Loss    Net_Profit\n",
              "0   2389392.212  920357.39072  1.469035e+06"
            ],
            "text/html": [
              "\n",
              "  <div id=\"df-b0b5c1ea-98f6-4c3b-a8dd-ec9dd9e995b0\">\n",
              "    <div class=\"colab-df-container\">\n",
              "      <div>\n",
              "<style scoped>\n",
              "    .dataframe tbody tr th:only-of-type {\n",
              "        vertical-align: middle;\n",
              "    }\n",
              "\n",
              "    .dataframe tbody tr th {\n",
              "        vertical-align: top;\n",
              "    }\n",
              "\n",
              "    .dataframe thead th {\n",
              "        text-align: right;\n",
              "    }\n",
              "</style>\n",
              "<table border=\"1\" class=\"dataframe\">\n",
              "  <thead>\n",
              "    <tr style=\"text-align: right;\">\n",
              "      <th></th>\n",
              "      <th>Total_Profit</th>\n",
              "      <th>Total_Loss</th>\n",
              "      <th>Net_Profit</th>\n",
              "    </tr>\n",
              "  </thead>\n",
              "  <tbody>\n",
              "    <tr>\n",
              "      <th>0</th>\n",
              "      <td>2389392.212</td>\n",
              "      <td>920357.39072</td>\n",
              "      <td>1.469035e+06</td>\n",
              "    </tr>\n",
              "  </tbody>\n",
              "</table>\n",
              "</div>\n",
              "      <button class=\"colab-df-convert\" onclick=\"convertToInteractive('df-b0b5c1ea-98f6-4c3b-a8dd-ec9dd9e995b0')\"\n",
              "              title=\"Convert this dataframe to an interactive table.\"\n",
              "              style=\"display:none;\">\n",
              "        \n",
              "  <svg xmlns=\"http://www.w3.org/2000/svg\" height=\"24px\"viewBox=\"0 0 24 24\"\n",
              "       width=\"24px\">\n",
              "    <path d=\"M0 0h24v24H0V0z\" fill=\"none\"/>\n",
              "    <path d=\"M18.56 5.44l.94 2.06.94-2.06 2.06-.94-2.06-.94-.94-2.06-.94 2.06-2.06.94zm-11 1L8.5 8.5l.94-2.06 2.06-.94-2.06-.94L8.5 2.5l-.94 2.06-2.06.94zm10 10l.94 2.06.94-2.06 2.06-.94-2.06-.94-.94-2.06-.94 2.06-2.06.94z\"/><path d=\"M17.41 7.96l-1.37-1.37c-.4-.4-.92-.59-1.43-.59-.52 0-1.04.2-1.43.59L10.3 9.45l-7.72 7.72c-.78.78-.78 2.05 0 2.83L4 21.41c.39.39.9.59 1.41.59.51 0 1.02-.2 1.41-.59l7.78-7.78 2.81-2.81c.8-.78.8-2.07 0-2.86zM5.41 20L4 18.59l7.72-7.72 1.47 1.35L5.41 20z\"/>\n",
              "  </svg>\n",
              "      </button>\n",
              "      \n",
              "  <style>\n",
              "    .colab-df-container {\n",
              "      display:flex;\n",
              "      flex-wrap:wrap;\n",
              "      gap: 12px;\n",
              "    }\n",
              "\n",
              "    .colab-df-convert {\n",
              "      background-color: #E8F0FE;\n",
              "      border: none;\n",
              "      border-radius: 50%;\n",
              "      cursor: pointer;\n",
              "      display: none;\n",
              "      fill: #1967D2;\n",
              "      height: 32px;\n",
              "      padding: 0 0 0 0;\n",
              "      width: 32px;\n",
              "    }\n",
              "\n",
              "    .colab-df-convert:hover {\n",
              "      background-color: #E2EBFA;\n",
              "      box-shadow: 0px 1px 2px rgba(60, 64, 67, 0.3), 0px 1px 3px 1px rgba(60, 64, 67, 0.15);\n",
              "      fill: #174EA6;\n",
              "    }\n",
              "\n",
              "    [theme=dark] .colab-df-convert {\n",
              "      background-color: #3B4455;\n",
              "      fill: #D2E3FC;\n",
              "    }\n",
              "\n",
              "    [theme=dark] .colab-df-convert:hover {\n",
              "      background-color: #434B5C;\n",
              "      box-shadow: 0px 1px 3px 1px rgba(0, 0, 0, 0.15);\n",
              "      filter: drop-shadow(0px 1px 2px rgba(0, 0, 0, 0.3));\n",
              "      fill: #FFFFFF;\n",
              "    }\n",
              "  </style>\n",
              "\n",
              "      <script>\n",
              "        const buttonEl =\n",
              "          document.querySelector('#df-b0b5c1ea-98f6-4c3b-a8dd-ec9dd9e995b0 button.colab-df-convert');\n",
              "        buttonEl.style.display =\n",
              "          google.colab.kernel.accessAllowed ? 'block' : 'none';\n",
              "\n",
              "        async function convertToInteractive(key) {\n",
              "          const element = document.querySelector('#df-b0b5c1ea-98f6-4c3b-a8dd-ec9dd9e995b0');\n",
              "          const dataTable =\n",
              "            await google.colab.kernel.invokeFunction('convertToInteractive',\n",
              "                                                     [key], {});\n",
              "          if (!dataTable) return;\n",
              "\n",
              "          const docLinkHtml = 'Like what you see? Visit the ' +\n",
              "            '<a target=\"_blank\" href=https://colab.research.google.com/notebooks/data_table.ipynb>data table notebook</a>'\n",
              "            + ' to learn more about interactive tables.';\n",
              "          element.innerHTML = '';\n",
              "          dataTable['output_type'] = 'display_data';\n",
              "          await google.colab.output.renderOutput(dataTable, element);\n",
              "          const docLink = document.createElement('div');\n",
              "          docLink.innerHTML = docLinkHtml;\n",
              "          element.appendChild(docLink);\n",
              "        }\n",
              "      </script>\n",
              "    </div>\n",
              "  </div>\n",
              "  "
            ]
          },
          "metadata": {},
          "execution_count": 607
        }
      ],
      "source": [
        "df=pd.DataFrame({\"Total_Profit\":[2389392.212],\n",
        "                 \"Total_Loss\":[920357.39072],\n",
        "                 \"Net_Profit\":[1469034.8212799998]})\n",
        "df"
      ]
    },
    {
      "cell_type": "markdown",
      "metadata": {
        "id": "WI7nN7AfIE4s"
      },
      "source": [
        "***profit loss dataframe***"
      ]
    },
    {
      "cell_type": "code",
      "execution_count": null,
      "metadata": {
        "colab": {
          "base_uri": "https://localhost:8080/"
        },
        "id": "6ELXpn_211uD",
        "outputId": "f62f9546-544f-4c7b-b58e-ffb5273fe6d6"
      },
      "outputs": [
        {
          "output_type": "execute_result",
          "data": {
            "text/plain": [
              "Total_Profit    2.389392e+06\n",
              "Total_Loss      9.203574e+05\n",
              "Net_Profit      1.469035e+06\n",
              "dtype: float64"
            ]
          },
          "metadata": {},
          "execution_count": 608
        }
      ],
      "source": [
        "df1=df.sum()\n",
        "df1"
      ]
    },
    {
      "cell_type": "code",
      "execution_count": null,
      "metadata": {
        "id": "iFgKX3Iy1fWR"
      },
      "outputs": [],
      "source": [
        "df_key=df1.keys()"
      ]
    },
    {
      "cell_type": "code",
      "execution_count": null,
      "metadata": {
        "colab": {
          "base_uri": "https://localhost:8080/",
          "height": 422
        },
        "id": "yWBw0CCb1ZiW",
        "outputId": "4e289f91-ad06-411e-9170-0297b22cc2f1"
      },
      "outputs": [
        {
          "output_type": "execute_result",
          "data": {
            "text/plain": [
              "<function matplotlib.pyplot.show(*args, **kw)>"
            ]
          },
          "metadata": {},
          "execution_count": 610
        },
        {
          "output_type": "display_data",
          "data": {
            "text/plain": [
              "<Figure size 720x432 with 1 Axes>"
            ],
            "image/png": "[encoded data removed]"
          },
          "metadata": {
            "needs_background": "light"
          }
        }
      ],
      "source": [
        "plt.figure(figsize=(10,6))\n",
        "sns.barplot(y=df1,x=df_key,palette=\"Set2_r\")\n",
        "plt.title(\"Total Profit And Loss\",color=\"blue\")\n",
        "plt.xlabel(\"Profit/Loss\",color=\"purple\")\n",
        "plt.ylabel(\"count\",color=\"purple\")\n",
        "plt.show"
      ]
    }
  ],
  "metadata": {
    "colab": {
      "provenance": []
    },
    "kernelspec": {
      "display_name": "Python 3",
      "name": "python3"
    },
    "language_info": {
      "name": "python"
    }
  },
  "nbformat": 4,
  "nbformat_minor": 0
}